{
 "cells": [
  {
   "cell_type": "markdown",
   "metadata": {
    "id": "WXu1r8qvSzWf"
   },
   "source": [
    "# Twin-Delayed DDPG"
   ]
  },
  {
   "cell_type": "code",
   "execution_count": null,
   "metadata": {
    "colab": {
     "base_uri": "https://localhost:8080/"
    },
    "id": "6TSHnuDthEfq",
    "outputId": "3efc1b82-271e-448c-d102-bd9943ca653c"
   },
   "outputs": [
    {
     "name": "stdout",
     "output_type": "stream",
     "text": [
      "Drive already mounted at /content/drive; to attempt to forcibly remount, call drive.mount(\"/content/drive\", force_remount=True).\n"
     ]
    }
   ],
   "source": [
    "# This mounts your Google Drive to the Colab VM.\n",
    "from google.colab import drive\n",
    "drive.mount('/content/drive')\n",
    "\n",
    "# TODO: Enter the foldername in your Drive where you have saved the unzipped\n",
    "FOLDERNAME = 'CNN/archive'\n",
    "assert FOLDERNAME is not None, \"[!] Enter the foldername.\"\n",
    "\n",
    "# Now that we've mounted your Drive, this ensures that\n",
    "# the Python interpreter of the Colab VM can load\n",
    "# python files from within it.\n",
    "import sys\n",
    "sys.path.append('/content/drive/My Drive/{}'.format(FOLDERNAME))"
   ]
  },
  {
   "cell_type": "code",
   "execution_count": null,
   "metadata": {
    "id": "S_aM3IUIhE2J"
   },
   "outputs": [],
   "source": [
    "import os\n",
    "os.chdir('/content/drive/MyDrive/Reinforcement-Learning/Code_Repository')"
   ]
  },
  {
   "cell_type": "markdown",
   "metadata": {
    "id": "YRzQUhuUTc0J"
   },
   "source": [
    "## Enviroment Build"
   ]
  },
  {
   "cell_type": "code",
   "execution_count": 6,
   "metadata": {
    "id": "HAHMB0Ze8fU0",
    "scrolled": false
   },
   "outputs": [],
   "source": [
    "import Enviorment_Setting"
   ]
  },
  {
   "cell_type": "code",
   "execution_count": 7,
   "metadata": {
    "colab": {
     "base_uri": "https://localhost:8080/"
    },
    "id": "DmaekMHxg_cX",
    "outputId": "d87bf0a2-d8d1-4f4f-a417-77797b7b6b96",
    "scrolled": true
   },
   "outputs": [
    {
     "ename": "FileNotFoundError",
     "evalue": "[Errno 2] No such file or directory: '../File_Repository/Train set/0050_train.csv'",
     "output_type": "error",
     "traceback": [
      "\u001b[1;31m---------------------------------------------------------------------------\u001b[0m",
      "\u001b[1;31mFileNotFoundError\u001b[0m                         Traceback (most recent call last)",
      "\u001b[1;32m~\\AppData\\Local\\Temp\\ipykernel_21396\\2248909282.py\u001b[0m in \u001b[0;36m<module>\u001b[1;34m\u001b[0m\n\u001b[0;32m      1\u001b[0m \u001b[1;31m#env = Enviorment_Setting.ETFenv(id = \"0050\",reward_driver= 0.05, punish_driver = 0.05, length = 100, stock_num = 1000, interest_rate = 0.05)\u001b[0m\u001b[1;33m\u001b[0m\u001b[1;33m\u001b[0m\u001b[1;33m\u001b[0m\u001b[0m\n\u001b[0;32m      2\u001b[0m \u001b[0mid\u001b[0m \u001b[1;33m=\u001b[0m \u001b[1;34m\"0050\"\u001b[0m\u001b[1;33m\u001b[0m\u001b[1;33m\u001b[0m\u001b[0m\n\u001b[1;32m----> 3\u001b[1;33m \u001b[0menv\u001b[0m \u001b[1;33m=\u001b[0m \u001b[0mEnviorment_Setting\u001b[0m\u001b[1;33m.\u001b[0m\u001b[0mETFenv\u001b[0m\u001b[1;33m(\u001b[0m\u001b[0mid\u001b[0m \u001b[1;33m=\u001b[0m \u001b[0mid\u001b[0m\u001b[1;33m,\u001b[0m\u001b[0mreward_driver\u001b[0m\u001b[1;33m=\u001b[0m \u001b[1;36m0.05\u001b[0m\u001b[1;33m,\u001b[0m \u001b[0mpunish_driver\u001b[0m \u001b[1;33m=\u001b[0m \u001b[1;36m0.05\u001b[0m\u001b[1;33m,\u001b[0m \u001b[0mlength\u001b[0m \u001b[1;33m=\u001b[0m \u001b[1;36m100\u001b[0m\u001b[1;33m,\u001b[0m \u001b[0mstock_num\u001b[0m \u001b[1;33m=\u001b[0m \u001b[1;36m1000\u001b[0m\u001b[1;33m,\u001b[0m \u001b[0minterest_rate\u001b[0m \u001b[1;33m=\u001b[0m \u001b[1;36m0.05\u001b[0m\u001b[1;33m)\u001b[0m\u001b[1;33m\u001b[0m\u001b[1;33m\u001b[0m\u001b[0m\n\u001b[0m",
      "\u001b[1;32m~\\Desktop\\Oreo\\SALL_Agency\\RL\\Code_Repository\\Enviorment_Setting.py\u001b[0m in \u001b[0;36m__init__\u001b[1;34m(self, id, reward_driver, punish_driver, length, stock_num, interest_rate)\u001b[0m\n\u001b[0;32m     44\u001b[0m \u001b[1;33m\u001b[0m\u001b[0m\n\u001b[0;32m     45\u001b[0m         \u001b[0maddress\u001b[0m \u001b[1;33m=\u001b[0m \u001b[1;34m\"../File_Repository/Train set/\"\u001b[0m \u001b[1;33m+\u001b[0m \u001b[0mid\u001b[0m \u001b[1;33m+\u001b[0m \u001b[1;34m\"_train.csv\"\u001b[0m\u001b[1;33m\u001b[0m\u001b[1;33m\u001b[0m\u001b[0m\n\u001b[1;32m---> 46\u001b[1;33m         \u001b[0mdataset\u001b[0m \u001b[1;33m=\u001b[0m \u001b[0mpd\u001b[0m\u001b[1;33m.\u001b[0m\u001b[0mread_csv\u001b[0m\u001b[1;33m(\u001b[0m\u001b[0maddress\u001b[0m\u001b[1;33m)\u001b[0m\u001b[1;33m\u001b[0m\u001b[1;33m\u001b[0m\u001b[0m\n\u001b[0m\u001b[0;32m     47\u001b[0m         \u001b[0mX\u001b[0m \u001b[1;33m=\u001b[0m \u001b[0mdataset\u001b[0m\u001b[1;33m.\u001b[0m\u001b[0miloc\u001b[0m\u001b[1;33m[\u001b[0m\u001b[1;33m:\u001b[0m\u001b[1;33m,\u001b[0m \u001b[1;36m1\u001b[0m\u001b[1;33m:\u001b[0m\u001b[1;33m]\u001b[0m\u001b[1;33m.\u001b[0m\u001b[0mvalues\u001b[0m\u001b[1;33m\u001b[0m\u001b[1;33m\u001b[0m\u001b[0m\n\u001b[0;32m     48\u001b[0m         \u001b[0mX\u001b[0m \u001b[1;33m=\u001b[0m \u001b[0mMACD\u001b[0m\u001b[1;33m(\u001b[0m\u001b[0mlist_input\u001b[0m \u001b[1;33m=\u001b[0m \u001b[0mX\u001b[0m\u001b[1;33m)\u001b[0m\u001b[1;33m\u001b[0m\u001b[1;33m\u001b[0m\u001b[0m\n",
      "\u001b[1;32m~\\.conda\\envs\\SALL_Agency\\lib\\site-packages\\pandas\\util\\_decorators.py\u001b[0m in \u001b[0;36mwrapper\u001b[1;34m(*args, **kwargs)\u001b[0m\n\u001b[0;32m    309\u001b[0m                     \u001b[0mstacklevel\u001b[0m\u001b[1;33m=\u001b[0m\u001b[0mstacklevel\u001b[0m\u001b[1;33m,\u001b[0m\u001b[1;33m\u001b[0m\u001b[1;33m\u001b[0m\u001b[0m\n\u001b[0;32m    310\u001b[0m                 )\n\u001b[1;32m--> 311\u001b[1;33m             \u001b[1;32mreturn\u001b[0m \u001b[0mfunc\u001b[0m\u001b[1;33m(\u001b[0m\u001b[1;33m*\u001b[0m\u001b[0margs\u001b[0m\u001b[1;33m,\u001b[0m \u001b[1;33m**\u001b[0m\u001b[0mkwargs\u001b[0m\u001b[1;33m)\u001b[0m\u001b[1;33m\u001b[0m\u001b[1;33m\u001b[0m\u001b[0m\n\u001b[0m\u001b[0;32m    312\u001b[0m \u001b[1;33m\u001b[0m\u001b[0m\n\u001b[0;32m    313\u001b[0m         \u001b[1;32mreturn\u001b[0m \u001b[0mwrapper\u001b[0m\u001b[1;33m\u001b[0m\u001b[1;33m\u001b[0m\u001b[0m\n",
      "\u001b[1;32m~\\.conda\\envs\\SALL_Agency\\lib\\site-packages\\pandas\\io\\parsers\\readers.py\u001b[0m in \u001b[0;36mread_csv\u001b[1;34m(filepath_or_buffer, sep, delimiter, header, names, index_col, usecols, squeeze, prefix, mangle_dupe_cols, dtype, engine, converters, true_values, false_values, skipinitialspace, skiprows, skipfooter, nrows, na_values, keep_default_na, na_filter, verbose, skip_blank_lines, parse_dates, infer_datetime_format, keep_date_col, date_parser, dayfirst, cache_dates, iterator, chunksize, compression, thousands, decimal, lineterminator, quotechar, quoting, doublequote, escapechar, comment, encoding, encoding_errors, dialect, error_bad_lines, warn_bad_lines, on_bad_lines, delim_whitespace, low_memory, memory_map, float_precision, storage_options)\u001b[0m\n\u001b[0;32m    584\u001b[0m     \u001b[0mkwds\u001b[0m\u001b[1;33m.\u001b[0m\u001b[0mupdate\u001b[0m\u001b[1;33m(\u001b[0m\u001b[0mkwds_defaults\u001b[0m\u001b[1;33m)\u001b[0m\u001b[1;33m\u001b[0m\u001b[1;33m\u001b[0m\u001b[0m\n\u001b[0;32m    585\u001b[0m \u001b[1;33m\u001b[0m\u001b[0m\n\u001b[1;32m--> 586\u001b[1;33m     \u001b[1;32mreturn\u001b[0m \u001b[0m_read\u001b[0m\u001b[1;33m(\u001b[0m\u001b[0mfilepath_or_buffer\u001b[0m\u001b[1;33m,\u001b[0m \u001b[0mkwds\u001b[0m\u001b[1;33m)\u001b[0m\u001b[1;33m\u001b[0m\u001b[1;33m\u001b[0m\u001b[0m\n\u001b[0m\u001b[0;32m    587\u001b[0m \u001b[1;33m\u001b[0m\u001b[0m\n\u001b[0;32m    588\u001b[0m \u001b[1;33m\u001b[0m\u001b[0m\n",
      "\u001b[1;32m~\\.conda\\envs\\SALL_Agency\\lib\\site-packages\\pandas\\io\\parsers\\readers.py\u001b[0m in \u001b[0;36m_read\u001b[1;34m(filepath_or_buffer, kwds)\u001b[0m\n\u001b[0;32m    480\u001b[0m \u001b[1;33m\u001b[0m\u001b[0m\n\u001b[0;32m    481\u001b[0m     \u001b[1;31m# Create the parser.\u001b[0m\u001b[1;33m\u001b[0m\u001b[1;33m\u001b[0m\u001b[1;33m\u001b[0m\u001b[0m\n\u001b[1;32m--> 482\u001b[1;33m     \u001b[0mparser\u001b[0m \u001b[1;33m=\u001b[0m \u001b[0mTextFileReader\u001b[0m\u001b[1;33m(\u001b[0m\u001b[0mfilepath_or_buffer\u001b[0m\u001b[1;33m,\u001b[0m \u001b[1;33m**\u001b[0m\u001b[0mkwds\u001b[0m\u001b[1;33m)\u001b[0m\u001b[1;33m\u001b[0m\u001b[1;33m\u001b[0m\u001b[0m\n\u001b[0m\u001b[0;32m    483\u001b[0m \u001b[1;33m\u001b[0m\u001b[0m\n\u001b[0;32m    484\u001b[0m     \u001b[1;32mif\u001b[0m \u001b[0mchunksize\u001b[0m \u001b[1;32mor\u001b[0m \u001b[0miterator\u001b[0m\u001b[1;33m:\u001b[0m\u001b[1;33m\u001b[0m\u001b[1;33m\u001b[0m\u001b[0m\n",
      "\u001b[1;32m~\\.conda\\envs\\SALL_Agency\\lib\\site-packages\\pandas\\io\\parsers\\readers.py\u001b[0m in \u001b[0;36m__init__\u001b[1;34m(self, f, engine, **kwds)\u001b[0m\n\u001b[0;32m    809\u001b[0m             \u001b[0mself\u001b[0m\u001b[1;33m.\u001b[0m\u001b[0moptions\u001b[0m\u001b[1;33m[\u001b[0m\u001b[1;34m\"has_index_names\"\u001b[0m\u001b[1;33m]\u001b[0m \u001b[1;33m=\u001b[0m \u001b[0mkwds\u001b[0m\u001b[1;33m[\u001b[0m\u001b[1;34m\"has_index_names\"\u001b[0m\u001b[1;33m]\u001b[0m\u001b[1;33m\u001b[0m\u001b[1;33m\u001b[0m\u001b[0m\n\u001b[0;32m    810\u001b[0m \u001b[1;33m\u001b[0m\u001b[0m\n\u001b[1;32m--> 811\u001b[1;33m         \u001b[0mself\u001b[0m\u001b[1;33m.\u001b[0m\u001b[0m_engine\u001b[0m \u001b[1;33m=\u001b[0m \u001b[0mself\u001b[0m\u001b[1;33m.\u001b[0m\u001b[0m_make_engine\u001b[0m\u001b[1;33m(\u001b[0m\u001b[0mself\u001b[0m\u001b[1;33m.\u001b[0m\u001b[0mengine\u001b[0m\u001b[1;33m)\u001b[0m\u001b[1;33m\u001b[0m\u001b[1;33m\u001b[0m\u001b[0m\n\u001b[0m\u001b[0;32m    812\u001b[0m \u001b[1;33m\u001b[0m\u001b[0m\n\u001b[0;32m    813\u001b[0m     \u001b[1;32mdef\u001b[0m \u001b[0mclose\u001b[0m\u001b[1;33m(\u001b[0m\u001b[0mself\u001b[0m\u001b[1;33m)\u001b[0m\u001b[1;33m:\u001b[0m\u001b[1;33m\u001b[0m\u001b[1;33m\u001b[0m\u001b[0m\n",
      "\u001b[1;32m~\\.conda\\envs\\SALL_Agency\\lib\\site-packages\\pandas\\io\\parsers\\readers.py\u001b[0m in \u001b[0;36m_make_engine\u001b[1;34m(self, engine)\u001b[0m\n\u001b[0;32m   1038\u001b[0m             )\n\u001b[0;32m   1039\u001b[0m         \u001b[1;31m# error: Too many arguments for \"ParserBase\"\u001b[0m\u001b[1;33m\u001b[0m\u001b[1;33m\u001b[0m\u001b[1;33m\u001b[0m\u001b[0m\n\u001b[1;32m-> 1040\u001b[1;33m         \u001b[1;32mreturn\u001b[0m \u001b[0mmapping\u001b[0m\u001b[1;33m[\u001b[0m\u001b[0mengine\u001b[0m\u001b[1;33m]\u001b[0m\u001b[1;33m(\u001b[0m\u001b[0mself\u001b[0m\u001b[1;33m.\u001b[0m\u001b[0mf\u001b[0m\u001b[1;33m,\u001b[0m \u001b[1;33m**\u001b[0m\u001b[0mself\u001b[0m\u001b[1;33m.\u001b[0m\u001b[0moptions\u001b[0m\u001b[1;33m)\u001b[0m  \u001b[1;31m# type: ignore[call-arg]\u001b[0m\u001b[1;33m\u001b[0m\u001b[1;33m\u001b[0m\u001b[0m\n\u001b[0m\u001b[0;32m   1041\u001b[0m \u001b[1;33m\u001b[0m\u001b[0m\n\u001b[0;32m   1042\u001b[0m     \u001b[1;32mdef\u001b[0m \u001b[0m_failover_to_python\u001b[0m\u001b[1;33m(\u001b[0m\u001b[0mself\u001b[0m\u001b[1;33m)\u001b[0m\u001b[1;33m:\u001b[0m\u001b[1;33m\u001b[0m\u001b[1;33m\u001b[0m\u001b[0m\n",
      "\u001b[1;32m~\\.conda\\envs\\SALL_Agency\\lib\\site-packages\\pandas\\io\\parsers\\c_parser_wrapper.py\u001b[0m in \u001b[0;36m__init__\u001b[1;34m(self, src, **kwds)\u001b[0m\n\u001b[0;32m     49\u001b[0m \u001b[1;33m\u001b[0m\u001b[0m\n\u001b[0;32m     50\u001b[0m         \u001b[1;31m# open handles\u001b[0m\u001b[1;33m\u001b[0m\u001b[1;33m\u001b[0m\u001b[1;33m\u001b[0m\u001b[0m\n\u001b[1;32m---> 51\u001b[1;33m         \u001b[0mself\u001b[0m\u001b[1;33m.\u001b[0m\u001b[0m_open_handles\u001b[0m\u001b[1;33m(\u001b[0m\u001b[0msrc\u001b[0m\u001b[1;33m,\u001b[0m \u001b[0mkwds\u001b[0m\u001b[1;33m)\u001b[0m\u001b[1;33m\u001b[0m\u001b[1;33m\u001b[0m\u001b[0m\n\u001b[0m\u001b[0;32m     52\u001b[0m         \u001b[1;32massert\u001b[0m \u001b[0mself\u001b[0m\u001b[1;33m.\u001b[0m\u001b[0mhandles\u001b[0m \u001b[1;32mis\u001b[0m \u001b[1;32mnot\u001b[0m \u001b[1;32mNone\u001b[0m\u001b[1;33m\u001b[0m\u001b[1;33m\u001b[0m\u001b[0m\n\u001b[0;32m     53\u001b[0m \u001b[1;33m\u001b[0m\u001b[0m\n",
      "\u001b[1;32m~\\.conda\\envs\\SALL_Agency\\lib\\site-packages\\pandas\\io\\parsers\\base_parser.py\u001b[0m in \u001b[0;36m_open_handles\u001b[1;34m(self, src, kwds)\u001b[0m\n\u001b[0;32m    227\u001b[0m             \u001b[0mmemory_map\u001b[0m\u001b[1;33m=\u001b[0m\u001b[0mkwds\u001b[0m\u001b[1;33m.\u001b[0m\u001b[0mget\u001b[0m\u001b[1;33m(\u001b[0m\u001b[1;34m\"memory_map\"\u001b[0m\u001b[1;33m,\u001b[0m \u001b[1;32mFalse\u001b[0m\u001b[1;33m)\u001b[0m\u001b[1;33m,\u001b[0m\u001b[1;33m\u001b[0m\u001b[1;33m\u001b[0m\u001b[0m\n\u001b[0;32m    228\u001b[0m             \u001b[0mstorage_options\u001b[0m\u001b[1;33m=\u001b[0m\u001b[0mkwds\u001b[0m\u001b[1;33m.\u001b[0m\u001b[0mget\u001b[0m\u001b[1;33m(\u001b[0m\u001b[1;34m\"storage_options\"\u001b[0m\u001b[1;33m,\u001b[0m \u001b[1;32mNone\u001b[0m\u001b[1;33m)\u001b[0m\u001b[1;33m,\u001b[0m\u001b[1;33m\u001b[0m\u001b[1;33m\u001b[0m\u001b[0m\n\u001b[1;32m--> 229\u001b[1;33m             \u001b[0merrors\u001b[0m\u001b[1;33m=\u001b[0m\u001b[0mkwds\u001b[0m\u001b[1;33m.\u001b[0m\u001b[0mget\u001b[0m\u001b[1;33m(\u001b[0m\u001b[1;34m\"encoding_errors\"\u001b[0m\u001b[1;33m,\u001b[0m \u001b[1;34m\"strict\"\u001b[0m\u001b[1;33m)\u001b[0m\u001b[1;33m,\u001b[0m\u001b[1;33m\u001b[0m\u001b[1;33m\u001b[0m\u001b[0m\n\u001b[0m\u001b[0;32m    230\u001b[0m         )\n\u001b[0;32m    231\u001b[0m \u001b[1;33m\u001b[0m\u001b[0m\n",
      "\u001b[1;32m~\\.conda\\envs\\SALL_Agency\\lib\\site-packages\\pandas\\io\\common.py\u001b[0m in \u001b[0;36mget_handle\u001b[1;34m(path_or_buf, mode, encoding, compression, memory_map, is_text, errors, storage_options)\u001b[0m\n\u001b[0;32m    705\u001b[0m                 \u001b[0mencoding\u001b[0m\u001b[1;33m=\u001b[0m\u001b[0mioargs\u001b[0m\u001b[1;33m.\u001b[0m\u001b[0mencoding\u001b[0m\u001b[1;33m,\u001b[0m\u001b[1;33m\u001b[0m\u001b[1;33m\u001b[0m\u001b[0m\n\u001b[0;32m    706\u001b[0m                 \u001b[0merrors\u001b[0m\u001b[1;33m=\u001b[0m\u001b[0merrors\u001b[0m\u001b[1;33m,\u001b[0m\u001b[1;33m\u001b[0m\u001b[1;33m\u001b[0m\u001b[0m\n\u001b[1;32m--> 707\u001b[1;33m                 \u001b[0mnewline\u001b[0m\u001b[1;33m=\u001b[0m\u001b[1;34m\"\"\u001b[0m\u001b[1;33m,\u001b[0m\u001b[1;33m\u001b[0m\u001b[1;33m\u001b[0m\u001b[0m\n\u001b[0m\u001b[0;32m    708\u001b[0m             )\n\u001b[0;32m    709\u001b[0m         \u001b[1;32melse\u001b[0m\u001b[1;33m:\u001b[0m\u001b[1;33m\u001b[0m\u001b[1;33m\u001b[0m\u001b[0m\n",
      "\u001b[1;31mFileNotFoundError\u001b[0m: [Errno 2] No such file or directory: '../File_Repository/Train set/0050_train.csv'"
     ]
    }
   ],
   "source": [
    "#env = Enviorment_Setting.ETFenv(id = \"0050\",reward_driver= 0.05, punish_driver = 0.05, length = 100, stock_num = 1000, interest_rate = 0.05)\n",
    "id = \"0050\"\n",
    "env = Enviorment_Setting.ETFenv(id = id,reward_driver= 0.05, punish_driver = 0.05, length = 100, stock_num = 1000, interest_rate = 0.05)"
   ]
  },
  {
   "cell_type": "code",
   "execution_count": null,
   "metadata": {
    "id": "_8f0Gvg82eOE"
   },
   "outputs": [],
   "source": [
    "import Enviorment_Setting_new"
   ]
  },
  {
   "cell_type": "code",
   "execution_count": 8,
   "metadata": {
    "id": "BpzxEuGk3_E7"
   },
   "outputs": [
    {
     "ename": "FileNotFoundError",
     "evalue": "[Errno 2] No such file or directory: 'test.npy'",
     "output_type": "error",
     "traceback": [
      "\u001b[1;31m---------------------------------------------------------------------------\u001b[0m",
      "\u001b[1;31mFileNotFoundError\u001b[0m                         Traceback (most recent call last)",
      "\u001b[1;32m~\\AppData\\Local\\Temp\\ipykernel_21396\\2865258311.py\u001b[0m in \u001b[0;36m<module>\u001b[1;34m\u001b[0m\n\u001b[0;32m      2\u001b[0m \u001b[1;32mfrom\u001b[0m \u001b[0mgym\u001b[0m \u001b[1;32mimport\u001b[0m \u001b[0mspaces\u001b[0m\u001b[1;33m\u001b[0m\u001b[1;33m\u001b[0m\u001b[0m\n\u001b[0;32m      3\u001b[0m \u001b[1;32mfrom\u001b[0m \u001b[0mgym\u001b[0m\u001b[1;33m.\u001b[0m\u001b[0mspaces\u001b[0m \u001b[1;32mimport\u001b[0m \u001b[0mDiscrete\u001b[0m\u001b[1;33m,\u001b[0m \u001b[0mBox\u001b[0m\u001b[1;33m,\u001b[0m \u001b[0mDict\u001b[0m\u001b[1;33m\u001b[0m\u001b[1;33m\u001b[0m\u001b[0m\n\u001b[1;32m----> 4\u001b[1;33m \u001b[0mdata\u001b[0m \u001b[1;33m=\u001b[0m \u001b[0mnp\u001b[0m\u001b[1;33m.\u001b[0m\u001b[0mload\u001b[0m\u001b[1;33m(\u001b[0m\u001b[1;34m\"test.npy\"\u001b[0m\u001b[1;33m)\u001b[0m\u001b[1;33m\u001b[0m\u001b[1;33m\u001b[0m\u001b[0m\n\u001b[0m\u001b[0;32m      5\u001b[0m \u001b[0mspace_dict\u001b[0m \u001b[1;33m=\u001b[0m \u001b[1;33m{\u001b[0m\u001b[1;33m}\u001b[0m\u001b[1;33m\u001b[0m\u001b[1;33m\u001b[0m\u001b[0m\n\u001b[0;32m      6\u001b[0m \u001b[0mcol_array\u001b[0m \u001b[1;33m=\u001b[0m \u001b[1;33m[\u001b[0m\u001b[1;34m'開盤價(元)'\u001b[0m\u001b[1;33m,\u001b[0m\u001b[1;34m'最高價(元)'\u001b[0m\u001b[1;33m,\u001b[0m\u001b[1;34m'最低價(元)'\u001b[0m\u001b[1;33m,\u001b[0m\u001b[1;34m'收盤價(元)'\u001b[0m\u001b[1;33m,\u001b[0m\u001b[1;34m'成交量(千股)'\u001b[0m\u001b[1;33m,\u001b[0m\u001b[1;34m'成交值(千元)'\u001b[0m\u001b[1;33m,\u001b[0m\u001b[1;34m'報酬率％'\u001b[0m\u001b[1;33m,\u001b[0m\u001b[1;34m'週轉率％'\u001b[0m\u001b[1;33m,\u001b[0m\u001b[1;34m'成交筆數(筆)'\u001b[0m\u001b[1;33m,\u001b[0m\u001b[1;34m'合計買賣超(千股)'\u001b[0m\u001b[1;33m,\u001b[0m\u001b[1;34m'融資餘額(張)'\u001b[0m\u001b[1;33m,\u001b[0m\u001b[1;34m'融券餘額(張)'\u001b[0m\u001b[1;33m,\u001b[0m\u001b[1;34m'MACD'\u001b[0m\u001b[1;33m]\u001b[0m\u001b[1;33m\u001b[0m\u001b[1;33m\u001b[0m\u001b[0m\n",
      "\u001b[1;32m~\\.conda\\envs\\SALL_Agency\\lib\\site-packages\\numpy\\lib\\npyio.py\u001b[0m in \u001b[0;36mload\u001b[1;34m(file, mmap_mode, allow_pickle, fix_imports, encoding)\u001b[0m\n\u001b[0;32m    415\u001b[0m             \u001b[0mown_fid\u001b[0m \u001b[1;33m=\u001b[0m \u001b[1;32mFalse\u001b[0m\u001b[1;33m\u001b[0m\u001b[1;33m\u001b[0m\u001b[0m\n\u001b[0;32m    416\u001b[0m         \u001b[1;32melse\u001b[0m\u001b[1;33m:\u001b[0m\u001b[1;33m\u001b[0m\u001b[1;33m\u001b[0m\u001b[0m\n\u001b[1;32m--> 417\u001b[1;33m             \u001b[0mfid\u001b[0m \u001b[1;33m=\u001b[0m \u001b[0mstack\u001b[0m\u001b[1;33m.\u001b[0m\u001b[0menter_context\u001b[0m\u001b[1;33m(\u001b[0m\u001b[0mopen\u001b[0m\u001b[1;33m(\u001b[0m\u001b[0mos_fspath\u001b[0m\u001b[1;33m(\u001b[0m\u001b[0mfile\u001b[0m\u001b[1;33m)\u001b[0m\u001b[1;33m,\u001b[0m \u001b[1;34m\"rb\"\u001b[0m\u001b[1;33m)\u001b[0m\u001b[1;33m)\u001b[0m\u001b[1;33m\u001b[0m\u001b[1;33m\u001b[0m\u001b[0m\n\u001b[0m\u001b[0;32m    418\u001b[0m             \u001b[0mown_fid\u001b[0m \u001b[1;33m=\u001b[0m \u001b[1;32mTrue\u001b[0m\u001b[1;33m\u001b[0m\u001b[1;33m\u001b[0m\u001b[0m\n\u001b[0;32m    419\u001b[0m \u001b[1;33m\u001b[0m\u001b[0m\n",
      "\u001b[1;31mFileNotFoundError\u001b[0m: [Errno 2] No such file or directory: 'test.npy'"
     ]
    }
   ],
   "source": [
    "import numpy as np\n",
    "from gym import spaces\n",
    "from gym.spaces import Discrete, Box, Dict\n",
    "data = np.load(\"test.npy\")\n",
    "space_dict = {}\n",
    "col_array = ['開盤價(元)','最高價(元)','最低價(元)','收盤價(元)','成交量(千股)','成交值(千元)','報酬率％','週轉率％','成交筆數(筆)','合計買賣超(千股)','融資餘額(張)','融券餘額(張)','MACD']\n",
    "i=0\n",
    "for col in col_array:\n",
    "    space_dict[col] = spaces.Box(low=np.array([data[:,i].min()]), high=np.array([data[:,i].max()]),dtype=np.float64)\n",
    "    i+=1"
   ]
  },
  {
   "cell_type": "code",
   "execution_count": null,
   "metadata": {
    "colab": {
     "base_uri": "https://localhost:8080/"
    },
    "id": "hGMhX-Oq2eOE",
    "outputId": "7e8e517e-5452-4015-f51e-5d8aa499dec2",
    "scrolled": true
   },
   "outputs": [
    {
     "name": "stderr",
     "output_type": "stream",
     "text": [
      "/content/drive/MyDrive/Reinforcement-Learning/Code_Repository/Enviorment_Setting_new.py:47: DeprecationWarning: `np.float` is a deprecated alias for the builtin `float`. To silence this warning, use `float` by itself. Doing this will not modify any behavior and is safe. If you specifically wanted the numpy scalar type, use `np.float64` here.\n",
      "Deprecated in NumPy 1.20; for more details and guidance: https://numpy.org/devdocs/release/1.20.0-notes.html#deprecations\n",
      "  self.action_space = Box(low = -1, high= 1, shape=(1,), dtype=np.float)\n"
     ]
    }
   ],
   "source": [
    "#env = Enviorment_Setting.ETFenv(id = \"0050\",reward_driver= 0.05, punish_driver = 0.05, length = 100, stock_num = 1000, interest_rate = 0.05)\n",
    "\n",
    "env = Enviorment_Setting_new.ETFenv(data,space_dict,price_key='收盤價(元)',reward_driver= 0.05, punish_driver = 0.05, length = 100, stock_num = 1000, interest_rate = 0.05)"
   ]
  },
  {
   "cell_type": "markdown",
   "metadata": {
    "id": "gGuKmH_ijf7U"
   },
   "source": [
    "## We set the parameters"
   ]
  },
  {
   "cell_type": "code",
   "execution_count": null,
   "metadata": {
    "id": "HFj6wbAo97lk"
   },
   "outputs": [],
   "source": [
    "env_name = \"SALL_ENV\" # Name of a environment (set it to any Continous environment you want)\n",
    "seed = 0 # Random seed number 隨機種子\n",
    "start_timesteps = 1e4 # Number of iterations/timesteps before which the model randomly chooses an action, and after which it starts to use the policy network 隨機探索步數\n",
    "eval_freq = 5e3 # How often the evaluation step is performed (after how many timesteps) 多少步後做一次評估\n",
    "max_timesteps = 30000 # Total number of iterations/timesteps 總共訓練步數\n",
    "save_models = False # Boolean checker whether or not to save the pre-trained model 儲存模型\n",
    "expl_noise = 0.1 # Exploration noise - STD value of exploration Gaussian noise 探索的動作噪訊\n",
    "batch_size = 100 # Size of the batch 訓練批次量\n",
    "discount = 0.99 # Discount factor gamma, used in the calculation of the total discounted reward 報酬遞減因子\n",
    "tau = 0.005 # Target network update rate 目標模型更新率\n",
    "policy_noise = 0.2 # STD of Gaussian noise added to the actions for the exploration purposes policy網路動作噪訊\n",
    "noise_clip = 0.5 # Maximum value of the Gaussian noise added to the actions (policy ) 動作噪訊最大值\n",
    "policy_freq = 2 # Number of iterations to wait before the policy network (Actor model) is updated 多少 iteration 後，更新 policy 策略網路"
   ]
  },
  {
   "cell_type": "markdown",
   "metadata": {
    "id": "Xjm2onHdT-Av"
   },
   "source": [
    "## Importing the libraries"
   ]
  },
  {
   "cell_type": "code",
   "execution_count": 11,
   "metadata": {
    "id": "Ikr2p0Js8iB4"
   },
   "outputs": [],
   "source": [
    "import os\n",
    "import time\n",
    "import random\n",
    "import numpy as np\n",
    "import matplotlib.pyplot as plt\n",
    "import gym\n",
    "import torch\n",
    "import torch.nn as nn\n",
    "import torch.nn.functional as F\n",
    "from gym import wrappers\n",
    "from gym.spaces import Discrete, Box, Dict\n",
    "from torch.autograd import Variable\n",
    "from collections import deque"
   ]
  },
  {
   "cell_type": "markdown",
   "metadata": {
    "id": "Y2nGdtlKVydr"
   },
   "source": [
    "## Step 1: We initialize the Experience Replay memory"
   ]
  },
  {
   "cell_type": "code",
   "execution_count": null,
   "metadata": {
    "colab": {
     "base_uri": "https://localhost:8080/"
    },
    "id": "u5rW0IDB8nTO",
    "outputId": "e27b1719-7b01-4d67-b261-4aaa82769fb1"
   },
   "outputs": [
    {
     "name": "stderr",
     "output_type": "stream",
     "text": [
      "/usr/local/lib/python3.10/dist-packages/ipykernel/ipkernel.py:283: DeprecationWarning: `should_run_async` will not call `transform_cell` automatically in the future. Please pass the result to `transformed_cell` argument and any exception that happen during thetransform in `preprocessing_exc_tuple` in IPython 7.17 and above.\n",
      "  and should_run_async(code)\n"
     ]
    }
   ],
   "source": [
    "class ReplayBuffer(object):\n",
    "\n",
    "    def __init__(self, max_size=1e6):\n",
    "        self.storage = []\n",
    "        self.max_size = max_size\n",
    "        self.ptr = 0\n",
    "\n",
    "    def add(self, transition):\n",
    "        if len(self.storage) == self.max_size:\n",
    "            self.storage[int(self.ptr)] = transition\n",
    "            self.ptr = (self.ptr + 1) % self.max_size\n",
    "        else:\n",
    "            self.storage.append(transition)\n",
    "\n",
    "    def sample(self, batch_size):\n",
    "        ind = np.random.randint(0, len(self.storage), size=batch_size)\n",
    "        batch_states, batch_next_states, batch_actions, batch_rewards, batch_dones = [], [], [], [], []\n",
    "        for i in ind:\n",
    "            state, next_state, action, reward, done = self.storage[i]\n",
    "            batch_states.append(np.array(state, copy=False))\n",
    "            batch_next_states.append(np.array(next_state, copy=False))\n",
    "            batch_actions.append(np.array(action, copy=False))\n",
    "            batch_rewards.append(np.array(reward, copy=False))\n",
    "            batch_dones.append(np.array(done, copy=False))\n",
    "        return np.array(batch_states), np.array(batch_next_states), np.array(batch_actions), np.array(batch_rewards).reshape(-1, 1), np.array(batch_dones).reshape(-1, 1)"
   ]
  },
  {
   "cell_type": "markdown",
   "metadata": {
    "id": "Jb7TTaHxWbQD"
   },
   "source": [
    "## Step 2: We build one neural network for the Actor model and one neural network for the Actor target"
   ]
  },
  {
   "cell_type": "code",
   "execution_count": null,
   "metadata": {
    "id": "4CeRW4D79HL0"
   },
   "outputs": [],
   "source": [
    "class Actor(nn.Module):\n",
    "\n",
    "    def __init__(self, state_dim, action_dim, max_action):\n",
    "        super(Actor, self).__init__()\n",
    "        self.layer_1 = nn.Linear(state_dim, 400)\n",
    "        self.layer_2 = nn.Linear(400, 300)\n",
    "        self.layer_3 = nn.Linear(300, action_dim)\n",
    "        self.max_action = max_action\n",
    "\n",
    "    def forward(self, x):\n",
    "        x = F.silu(self.layer_1(x)) # Relu\n",
    "        x = F.silu(self.layer_2(x)) # Relu\n",
    "        x = nn.Tanh()(self.layer_3(x))\n",
    "        return x"
   ]
  },
  {
   "cell_type": "markdown",
   "metadata": {
    "id": "HRDDce8FXef7"
   },
   "source": [
    "## Step 3: We build two neural networks for the two Critic models and two neural networks for the two Critic targets"
   ]
  },
  {
   "cell_type": "code",
   "execution_count": null,
   "metadata": {
    "id": "OCee7gwR9Jrs"
   },
   "outputs": [],
   "source": [
    "class Critic(nn.Module):\n",
    "\n",
    "    def __init__(self, state_dim, action_dim):\n",
    "        super(Critic, self).__init__()\n",
    "        # Defining the first Critic neural network\n",
    "        self.layer_1 = nn.Linear(state_dim + action_dim, 400)\n",
    "        self.layer_2 = nn.Linear(400, 300)\n",
    "        self.layer_3 = nn.Linear(300, 1)\n",
    "        # Defining the second Critic neural network\n",
    "        self.layer_4 = nn.Linear(state_dim + action_dim, 400)\n",
    "        self.layer_5 = nn.Linear(400, 300)\n",
    "        self.layer_6 = nn.Linear(300, 1)\n",
    "\n",
    "    def forward(self, x, u):\n",
    "        xu = torch.cat([x, u], 1)\n",
    "        # Forward-Propagation on the first Critic Neural Network\n",
    "        x1 = F.relu(self.layer_1(xu))\n",
    "        x1 = F.relu(self.layer_2(x1))\n",
    "        x1 = self.layer_3(x1)\n",
    "        # Forward-Propagation on the second Critic Neural Network\n",
    "        x2 = F.relu(self.layer_4(xu))\n",
    "        x2 = F.relu(self.layer_5(x2))\n",
    "        x2 = self.layer_6(x2)\n",
    "        return x1, x2\n",
    "\n",
    "    def Q1(self, x, u):\n",
    "        xu = torch.cat([x, u], 1)\n",
    "        x1 = F.relu(self.layer_1(xu))\n",
    "        x1 = F.relu(self.layer_2(x1))\n",
    "        x1 = self.layer_3(x1)\n",
    "        return x1"
   ]
  },
  {
   "cell_type": "markdown",
   "metadata": {
    "id": "NzIDuONodenW"
   },
   "source": [
    "## Steps 4 to 15: Training Process"
   ]
  },
  {
   "cell_type": "code",
   "execution_count": null,
   "metadata": {
    "id": "zzd0H1xukdKe"
   },
   "outputs": [],
   "source": [
    "# Selecting the device (CPU or GPU)\n",
    "device = torch.device(\"cuda\" if torch.cuda.is_available() else \"cpu\")\n",
    "\n",
    "# Building the whole Training Process into a class\n",
    "\n",
    "class TD3(object):\n",
    "\n",
    "    def __init__(self, state_dim, action_dim, max_action):\n",
    "\n",
    "        self.actor = Actor(state_dim, action_dim, max_action).to(device)\n",
    "        self.actor_target = Actor(state_dim, action_dim, max_action).to(device)\n",
    "        self.actor_target.load_state_dict(self.actor.state_dict())\n",
    "        self.actor_optimizer = torch.optim.Adam(self.actor.parameters())\n",
    "\n",
    "        self.critic = Critic(state_dim, action_dim).to(device)\n",
    "        self.critic_target = Critic(state_dim, action_dim).to(device)\n",
    "        self.critic_target.load_state_dict(self.critic.state_dict())\n",
    "        self.critic_optimizer = torch.optim.Adam(self.critic.parameters())\n",
    "\n",
    "        self.max_action = max_action\n",
    "\n",
    "    def select_action(self, state):\n",
    "        state = torch.Tensor(state.reshape(1, -1)).to(device)\n",
    "        return self.actor(state).cpu().data.numpy().flatten()\n",
    "\n",
    "    def train(self, replay_buffer, iterations, batch_size=100, discount=0.99, tau=0.005, policy_noise=0.2, noise_clip=0.5, policy_freq=2):\n",
    "\n",
    "        for it in range(iterations):\n",
    "\n",
    "            # Step 4: We sample a batch of transitions (s, s’, a, r) from the memory\n",
    "            batch_states, batch_next_states, batch_actions, batch_rewards, batch_dones = replay_buffer.sample(batch_size)\n",
    "            state = torch.Tensor(batch_states).to(device)\n",
    "            next_state = torch.Tensor(batch_next_states).to(device)\n",
    "            action = torch.Tensor(batch_actions).to(device)\n",
    "            reward = torch.Tensor(batch_rewards).to(device)\n",
    "            done = torch.Tensor(batch_dones).to(device)\n",
    "\n",
    "            # Step 5: From the next state s’, the Actor target plays the next action a’\n",
    "            next_action = self.actor_target(next_state)\n",
    "\n",
    "            # Step 6: We add Gaussian noise to this next action a’ and we clamp it in a range of values supported by the environment\n",
    "            noise = torch.Tensor(batch_actions).data.normal_(0, policy_noise).to(device)\n",
    "            noise = noise.clamp(-noise_clip, noise_clip)\n",
    "            next_action = (next_action + noise).clamp(-self.max_action, self.max_action)\n",
    "\n",
    "            # Step 7: The two Critic targets take each the couple (s’, a’) as input and return two Q-values Qt1(s’,a’) and Qt2(s’,a’) as outputs\n",
    "            target_Q1, target_Q2 = self.critic_target(next_state, next_action)\n",
    "\n",
    "            # Step 8: We keep the minimum of these two Q-values: min(Qt1, Qt2)\n",
    "            target_Q = torch.min(target_Q1, target_Q2)\n",
    "\n",
    "            # Step 9: We get the final target of the two Critic models, which is: Qt = r + γ * min(Qt1, Qt2), where γ is the discount factor\n",
    "            target_Q = reward + ((1 - done) * discount * target_Q).detach()\n",
    "\n",
    "            # Step 10: The two Critic models take each the couple (s, a) as input and return two Q-values Q1(s,a) and Q2(s,a) as outputs\n",
    "            current_Q1, current_Q2 = self.critic(state, action)\n",
    "\n",
    "            # Step 11: We compute the loss coming from the two Critic models: Critic Loss = MSE_Loss(Q1(s,a), Qt) + MSE_Loss(Q2(s,a), Qt)\n",
    "            critic_loss = F.mse_loss(current_Q1, target_Q) + F.mse_loss(current_Q2, target_Q)\n",
    "\n",
    "            # Step 12: We backpropagate this Critic loss and update the parameters of the two Critic models with a SGD optimizer\n",
    "            self.critic_optimizer.zero_grad()\n",
    "            critic_loss.backward()\n",
    "            self.critic_optimizer.step()\n",
    "\n",
    "            # Step 13: Once every two iterations, we update our Actor model by performing gradient ascent on the output of the first Critic model\n",
    "            if it % policy_freq == 0:\n",
    "                actor_loss = -self.critic.Q1(state, self.actor(state)).mean() # self.actor(state) -> action actor_loss -> score of the action\n",
    "                self.actor_optimizer.zero_grad()\n",
    "                actor_loss.backward()\n",
    "                self.actor_optimizer.step()\n",
    "\n",
    "                # Step 14: Still once every two iterations, we update the weights of the Actor target by polyak averaging\n",
    "                for param, target_param in zip(self.actor.parameters(), self.actor_target.parameters()):\n",
    "                    target_param.data.copy_(tau * param.data + (1 - tau) * target_param.data)\n",
    "\n",
    "                # Step 15: Still once every two iterations, we update the weights of the Critic target by polyak averaging\n",
    "                for param, target_param in zip(self.critic.parameters(), self.critic_target.parameters()):\n",
    "                    target_param.data.copy_(tau * param.data + (1 - tau) * target_param.data)\n",
    "\n",
    "    # Making a save method to save a trained model\n",
    "    def save(self, filename, directory):\n",
    "        torch.save(self.actor.state_dict(), '%s/%s_actor.pth' % (directory, filename))\n",
    "        torch.save(self.critic.state_dict(), '%s/%s_critic.pth' % (directory, filename))\n",
    "\n",
    "    # Making a load method to load a pre-trained model\n",
    "    def load(self, filename, directory):\n",
    "        self.actor.load_state_dict(torch.load('%s/%s_actor.pth' % (directory, filename)))\n",
    "        self.critic.load_state_dict(torch.load('%s/%s_critic.pth' % (directory, filename)))"
   ]
  },
  {
   "cell_type": "markdown",
   "metadata": {
    "id": "ka-ZRtQvjBex"
   },
   "source": [
    "## We make a function that evaluates the policy by calculating its average reward over 10 episodes"
   ]
  },
  {
   "cell_type": "code",
   "execution_count": null,
   "metadata": {
    "id": "qabqiYdp9wDM"
   },
   "outputs": [],
   "source": [
    "def evaluate_policy(policy, eval_episodes=10):\n",
    "    avg_reward = 0.\n",
    "    action_arr = []\n",
    "    for _ in range(eval_episodes):\n",
    "        obs = env.reset()\n",
    "        done = False\n",
    "        while not done:\n",
    "            action = policy.select_action(np.array(obs))\n",
    "            action_arr.append(action)\n",
    "            obs, reward, done, _ = env.step(action)\n",
    "            avg_reward += reward\n",
    "    avg_reward /= eval_episodes\n",
    "    print(\"%2f, \" %(float(sum(action_arr)/len(action_arr))))\n",
    "    print(\"\\n\")\n",
    "    print (\"---------------------------------------\")\n",
    "    print (\"Average Reward over the Evaluation Step: %f\" % (avg_reward))\n",
    "    print (\"---------------------------------------\")\n",
    "    return avg_reward"
   ]
  },
  {
   "cell_type": "markdown",
   "metadata": {
    "id": "Hjwf2HCol3XP"
   },
   "source": [
    "## We create a file name for the two saved models: the Actor and Critic models"
   ]
  },
  {
   "cell_type": "code",
   "execution_count": null,
   "metadata": {
    "colab": {
     "base_uri": "https://localhost:8080/"
    },
    "id": "1fyH8N5z-o3o",
    "outputId": "41580d48-dfa3-4258-e2f6-1955fe0f9a21"
   },
   "outputs": [
    {
     "name": "stdout",
     "output_type": "stream",
     "text": [
      "---------------------------------------\n",
      "Settings: TD3_SALL_ENV(seed:0)\n",
      "---------------------------------------\n"
     ]
    }
   ],
   "source": [
    "file_name = \"%s_%s(seed:%s)\" % (\"TD3\", env_name, str(seed))\n",
    "print (\"---------------------------------------\")\n",
    "print (\"Settings: %s\" % (file_name))\n",
    "print (\"---------------------------------------\")"
   ]
  },
  {
   "cell_type": "markdown",
   "metadata": {
    "id": "kop-C96Aml8O"
   },
   "source": [
    "## We create a folder inside which will be saved the trained models"
   ]
  },
  {
   "cell_type": "code",
   "execution_count": null,
   "metadata": {
    "id": "Src07lvY-zXb"
   },
   "outputs": [],
   "source": [
    "if not os.path.exists(\"../Model_Repository/results\"):\n",
    "    os.makedirs(\"../Model_Repository/results\")\n",
    "if save_models and not os.path.exists(\"../Model_Repository/pytorch_models\"):\n",
    "    os.makedirs(\"../Model_Repository/pytorch_models\")"
   ]
  },
  {
   "cell_type": "markdown",
   "metadata": {
    "id": "5YdPG4HXnNsh"
   },
   "source": [
    "## We set seeds and we get the necessary information on the states and actions in the chosen environment"
   ]
  },
  {
   "cell_type": "code",
   "execution_count": null,
   "metadata": {
    "colab": {
     "base_uri": "https://localhost:8080/"
    },
    "id": "Z3RufYec_ADj",
    "outputId": "28771dd7-c63d-47e5-91ae-7f56bc44540a"
   },
   "outputs": [
    {
     "name": "stderr",
     "output_type": "stream",
     "text": [
      "/usr/local/lib/python3.10/dist-packages/gym/core.py:256: DeprecationWarning: \u001b[33mWARN: Function `env.seed(seed)` is marked as deprecated and will be removed in the future. Please use `env.reset(seed=seed)` instead.\u001b[0m\n",
      "  deprecation(\n"
     ]
    }
   ],
   "source": [
    "env.seed(seed)\n",
    "torch.manual_seed(seed)\n",
    "np.random.seed(seed)\n",
    "state_dim = len(env.observation_space)\n",
    "action_dim = env.action_space.shape[0]\n",
    "max_action = float(env.action_space.high[0])"
   ]
  },
  {
   "cell_type": "markdown",
   "metadata": {
    "id": "HWEgDAQxnbem"
   },
   "source": [
    "## We create the policy network (the Actor model)"
   ]
  },
  {
   "cell_type": "code",
   "execution_count": null,
   "metadata": {
    "id": "wTVvG7F8_EWg"
   },
   "outputs": [],
   "source": [
    "policy = TD3(state_dim, action_dim, max_action)"
   ]
  },
  {
   "cell_type": "markdown",
   "metadata": {
    "id": "ZI60VN2Unklh"
   },
   "source": [
    "## We create the Experience Replay memory"
   ]
  },
  {
   "cell_type": "code",
   "execution_count": null,
   "metadata": {
    "id": "sd-ZsdXR_LgV"
   },
   "outputs": [],
   "source": [
    "replay_buffer = ReplayBuffer()"
   ]
  },
  {
   "cell_type": "markdown",
   "metadata": {
    "id": "QYOpCyiDnw7s"
   },
   "source": [
    "## We define a list where all the evaluation results over 10 episodes are stored"
   ]
  },
  {
   "cell_type": "code",
   "execution_count": null,
   "metadata": {
    "colab": {
     "base_uri": "https://localhost:8080/"
    },
    "id": "dhC_5XJ__Orp",
    "outputId": "3a88d1e7-9487-44ca-da61-8cdeee916f86"
   },
   "outputs": [
    {
     "name": "stdout",
     "output_type": "stream",
     "text": [
      "-0.036650, \n",
      "\n",
      "\n",
      "---------------------------------------\n",
      "Average Reward over the Evaluation Step: 2.203340\n",
      "---------------------------------------\n"
     ]
    }
   ],
   "source": [
    "evaluations = [evaluate_policy(policy)]"
   ]
  },
  {
   "cell_type": "markdown",
   "metadata": {
    "id": "31n5eb03p-Fm"
   },
   "source": [
    "## We initialize the variables"
   ]
  },
  {
   "cell_type": "code",
   "execution_count": null,
   "metadata": {
    "id": "1vN5EvxK_QhT"
   },
   "outputs": [],
   "source": [
    "total_timesteps = 0\n",
    "timesteps_since_eval = 0\n",
    "episode_num = 0\n",
    "done = True\n",
    "t0 = time.time()"
   ]
  },
  {
   "cell_type": "markdown",
   "metadata": {
    "id": "O8QUNfnwg_cd"
   },
   "source": [
    "## Action Wrapper"
   ]
  },
  {
   "cell_type": "code",
   "execution_count": null,
   "metadata": {
    "id": "mJ1od8Lng_cd"
   },
   "outputs": [],
   "source": [
    "class Actions_Scale(gym.ActionWrapper):\n",
    "    def __init__(self, env, low_, high_):\n",
    "        super().__init__(env)\n",
    "        self.action_space = Box(low = low_, high= high_, shape=(1,), dtype=np.int)\n",
    "    def action(self,act):\n",
    "        return act"
   ]
  },
  {
   "cell_type": "markdown",
   "metadata": {
    "id": "q9gsjvtPqLgT"
   },
   "source": [
    "## Training"
   ]
  },
  {
   "cell_type": "code",
   "execution_count": null,
   "metadata": {
    "colab": {
     "base_uri": "https://localhost:8080/"
    },
    "id": "y_ouY4NH_Y0I",
    "outputId": "da99b2d6-e1a6-4cb2-e1be-ad1846290250",
    "scrolled": false
   },
   "outputs": [
    {
     "name": "stdout",
     "output_type": "stream",
     "text": [
      "Total Timesteps: 100 Episode Num: 1 Reward: 3.9992456556018876\n",
      "Total Timesteps: 200 Episode Num: 2 Reward: 0.7225533269157529\n",
      "Total Timesteps: 300 Episode Num: 3 Reward: 3.452117211297962\n",
      "Total Timesteps: 400 Episode Num: 4 Reward: 2.2898036088367495\n",
      "Total Timesteps: 500 Episode Num: 5 Reward: -0.9356141779412883\n",
      "Total Timesteps: 600 Episode Num: 6 Reward: 3.378509435131745\n",
      "Total Timesteps: 700 Episode Num: 7 Reward: -5913.545268095051\n",
      "Total Timesteps: 800 Episode Num: 8 Reward: 1.2837965121162025\n",
      "Total Timesteps: 900 Episode Num: 9 Reward: -5.705839223515319\n",
      "Total Timesteps: 1000 Episode Num: 10 Reward: 4.394196848415614\n",
      "Total Timesteps: 1100 Episode Num: 11 Reward: -4045.067297951578\n",
      "Total Timesteps: 1200 Episode Num: 12 Reward: -0.15266826417015472\n",
      "Total Timesteps: 1300 Episode Num: 13 Reward: 4.360255853507895\n",
      "Total Timesteps: 1400 Episode Num: 14 Reward: 3.5287835270626764\n",
      "Total Timesteps: 1500 Episode Num: 15 Reward: 1.5153805894050056\n",
      "Total Timesteps: 1600 Episode Num: 16 Reward: 5.731749838229415\n",
      "Total Timesteps: 1700 Episode Num: 17 Reward: -3.601501659601639\n",
      "Total Timesteps: 1800 Episode Num: 18 Reward: 2.8534158803190874\n",
      "Total Timesteps: 1900 Episode Num: 19 Reward: 2.990499741359045\n",
      "Total Timesteps: 2000 Episode Num: 20 Reward: 2.3460135893402883\n",
      "Total Timesteps: 2100 Episode Num: 21 Reward: 2.424072378694067\n",
      "Total Timesteps: 2200 Episode Num: 22 Reward: 1.859275930762176\n",
      "Total Timesteps: 2300 Episode Num: 23 Reward: -0.5089252654930854\n",
      "Total Timesteps: 2400 Episode Num: 24 Reward: 1.4405414292087584\n",
      "Total Timesteps: 2500 Episode Num: 25 Reward: 4.810238602974999\n",
      "Total Timesteps: 2600 Episode Num: 26 Reward: 6.770236543062253\n",
      "Total Timesteps: 2700 Episode Num: 27 Reward: 0.38124545721986836\n",
      "Total Timesteps: 2800 Episode Num: 28 Reward: 2.085668488138743\n",
      "Total Timesteps: 2900 Episode Num: 29 Reward: 3.1626636172487395\n",
      "Total Timesteps: 3000 Episode Num: 30 Reward: -0.10931977110488632\n",
      "Total Timesteps: 3100 Episode Num: 31 Reward: 1.811975385035573\n",
      "Total Timesteps: 3200 Episode Num: 32 Reward: -0.16837696257387696\n",
      "Total Timesteps: 3300 Episode Num: 33 Reward: 0.6815199130930351\n",
      "Total Timesteps: 3400 Episode Num: 34 Reward: 2.462076696611237\n",
      "Total Timesteps: 3500 Episode Num: 35 Reward: 3.2345841719529824\n",
      "Total Timesteps: 3600 Episode Num: 36 Reward: -2.5652174630896343\n",
      "Total Timesteps: 3700 Episode Num: 37 Reward: 2.4295434751468523\n",
      "Total Timesteps: 3800 Episode Num: 38 Reward: -1.836025794287683\n",
      "Total Timesteps: 3900 Episode Num: 39 Reward: 1.6149812546009321\n",
      "Total Timesteps: 4000 Episode Num: 40 Reward: 1.3098371691270358\n",
      "Total Timesteps: 4100 Episode Num: 41 Reward: 4.254911455696652\n",
      "Total Timesteps: 4200 Episode Num: 42 Reward: 3.9950280308340007\n",
      "Total Timesteps: 4300 Episode Num: 43 Reward: 2.40418135389966\n",
      "Total Timesteps: 4400 Episode Num: 44 Reward: -0.8491295831251646\n",
      "Total Timesteps: 4500 Episode Num: 45 Reward: -1.523329870509178\n",
      "Total Timesteps: 4600 Episode Num: 46 Reward: -10.78497582695903\n",
      "Total Timesteps: 4700 Episode Num: 47 Reward: 4.269600633785823\n",
      "Total Timesteps: 4800 Episode Num: 48 Reward: 3.6413626991615553\n",
      "Total Timesteps: 4900 Episode Num: 49 Reward: 0.3452071507847594\n",
      "Total Timesteps: 5000 Episode Num: 50 Reward: -2.442998788344087\n",
      "-1.000000, \n",
      "\n",
      "\n",
      "---------------------------------------\n",
      "Average Reward over the Evaluation Step: -1.435160\n",
      "---------------------------------------\n",
      "Total Timesteps: 5100 Episode Num: 51 Reward: 8.773900934110417\n",
      "Total Timesteps: 5200 Episode Num: 52 Reward: 0.09659858339857647\n",
      "Total Timesteps: 5300 Episode Num: 53 Reward: -0.5534817069838102\n",
      "Total Timesteps: 5400 Episode Num: 54 Reward: 1.0158515023805523\n",
      "Total Timesteps: 5500 Episode Num: 55 Reward: 5.204056092544283\n",
      "Total Timesteps: 5600 Episode Num: 56 Reward: 3.4317084943402096\n",
      "Total Timesteps: 5700 Episode Num: 57 Reward: 4629.943275268506\n",
      "Total Timesteps: 5800 Episode Num: 58 Reward: -0.5431580890628737\n",
      "Total Timesteps: 5900 Episode Num: 59 Reward: 1.1686903165484284\n",
      "Total Timesteps: 6000 Episode Num: 60 Reward: 0.02550477353398674\n",
      "Total Timesteps: 6100 Episode Num: 61 Reward: -4.530322190288521\n",
      "Total Timesteps: 6200 Episode Num: 62 Reward: -3.700170263707015\n",
      "Total Timesteps: 6300 Episode Num: 63 Reward: -1.5069972990597857\n",
      "Total Timesteps: 6400 Episode Num: 64 Reward: 3.5450191020296793\n",
      "Total Timesteps: 6500 Episode Num: 65 Reward: 3.863440236972165\n",
      "Total Timesteps: 6600 Episode Num: 66 Reward: -2.2955538512241485\n",
      "Total Timesteps: 6700 Episode Num: 67 Reward: 6.15912252970455\n",
      "Total Timesteps: 6800 Episode Num: 68 Reward: 2.8626937690511127\n",
      "Total Timesteps: 6900 Episode Num: 69 Reward: 3.13403713771093\n",
      "Total Timesteps: 7000 Episode Num: 70 Reward: -4576.132776734612\n",
      "Total Timesteps: 7100 Episode Num: 71 Reward: 3.9453008320644014\n",
      "Total Timesteps: 7200 Episode Num: 72 Reward: 1.1052985914534577\n",
      "Total Timesteps: 7300 Episode Num: 73 Reward: 3.0686128562064896\n",
      "Total Timesteps: 7400 Episode Num: 74 Reward: 4.021733290447563\n",
      "Total Timesteps: 7500 Episode Num: 75 Reward: 4.305204754108205\n",
      "Total Timesteps: 7600 Episode Num: 76 Reward: -1.3363498080842537\n",
      "Total Timesteps: 7700 Episode Num: 77 Reward: 5.664010898915025\n",
      "Total Timesteps: 7800 Episode Num: 78 Reward: 4.172233409285231\n",
      "Total Timesteps: 7900 Episode Num: 79 Reward: 3.1217524520051456\n",
      "Total Timesteps: 8000 Episode Num: 80 Reward: -1.0815669245044595\n",
      "Total Timesteps: 8100 Episode Num: 81 Reward: -1.1733487574489376\n",
      "Total Timesteps: 8200 Episode Num: 82 Reward: 0.9754651717575573\n",
      "Total Timesteps: 8300 Episode Num: 83 Reward: -0.5317886572711817\n",
      "Total Timesteps: 8400 Episode Num: 84 Reward: 0.3437761216288443\n",
      "Total Timesteps: 8500 Episode Num: 85 Reward: 2.103239096918699\n",
      "Total Timesteps: 8600 Episode Num: 86 Reward: 0.8969109908437969\n",
      "Total Timesteps: 8700 Episode Num: 87 Reward: 1.8116902663810484\n",
      "Total Timesteps: 8800 Episode Num: 88 Reward: 0.17673442377000353\n",
      "Total Timesteps: 8900 Episode Num: 89 Reward: 0.11158130061889496\n",
      "Total Timesteps: 9000 Episode Num: 90 Reward: 1.3525994877012921\n",
      "Total Timesteps: 9100 Episode Num: 91 Reward: -0.28218510213826264\n",
      "Total Timesteps: 9200 Episode Num: 92 Reward: -0.391353061690103\n",
      "Total Timesteps: 9300 Episode Num: 93 Reward: 0.8623675327574792\n",
      "Total Timesteps: 9400 Episode Num: 94 Reward: -0.06552883337605783\n",
      "Total Timesteps: 9500 Episode Num: 95 Reward: -2.0092802189945744\n",
      "Total Timesteps: 9600 Episode Num: 96 Reward: -2.9218698661044296\n",
      "Total Timesteps: 9700 Episode Num: 97 Reward: 0.9622986260267384\n",
      "Total Timesteps: 9800 Episode Num: 98 Reward: -8.769513915894981\n",
      "Total Timesteps: 9900 Episode Num: 99 Reward: -0.18460298244312287\n",
      "Total Timesteps: 10000 Episode Num: 100 Reward: 3.654723046917146\n",
      "-1.000000, \n",
      "\n",
      "\n",
      "---------------------------------------\n",
      "Average Reward over the Evaluation Step: -0.213561\n",
      "---------------------------------------\n",
      "Total Timesteps: 10100 Episode Num: 101 Reward: -1.0884471835877687\n",
      "Total Timesteps: 10200 Episode Num: 102 Reward: -1.200327069960197\n",
      "Total Timesteps: 10300 Episode Num: 103 Reward: 2.2081304217496185\n",
      "Total Timesteps: 10400 Episode Num: 104 Reward: -4.221054372037894\n",
      "Total Timesteps: 10500 Episode Num: 105 Reward: -3.740621759843839\n",
      "Total Timesteps: 10600 Episode Num: 106 Reward: -5.8669695475145\n",
      "Total Timesteps: 10700 Episode Num: 107 Reward: 27.739847204079112\n",
      "Total Timesteps: 10800 Episode Num: 108 Reward: -5.383594233112073\n",
      "Total Timesteps: 10900 Episode Num: 109 Reward: 0.03856336122449311\n",
      "Total Timesteps: 11000 Episode Num: 110 Reward: 46.12807991963733\n",
      "Total Timesteps: 11100 Episode Num: 111 Reward: -1.1076955610977235\n",
      "Total Timesteps: 11200 Episode Num: 112 Reward: 14.977174428624975\n",
      "Total Timesteps: 11300 Episode Num: 113 Reward: -2.7605834746359257\n",
      "Total Timesteps: 11400 Episode Num: 114 Reward: -2.0421027775585205\n",
      "Total Timesteps: 11500 Episode Num: 115 Reward: -0.2725907901861775\n",
      "Total Timesteps: 11600 Episode Num: 116 Reward: -13.23481340118248\n",
      "Total Timesteps: 11700 Episode Num: 117 Reward: -5.945651986177946\n",
      "Total Timesteps: 11800 Episode Num: 118 Reward: -12.748443427935898\n",
      "Total Timesteps: 11900 Episode Num: 119 Reward: -3.411759407867496\n",
      "Total Timesteps: 12000 Episode Num: 120 Reward: -7.488505311660815\n",
      "Total Timesteps: 12100 Episode Num: 121 Reward: -19.508786921612444\n",
      "Total Timesteps: 12200 Episode Num: 122 Reward: -0.25518050561809935\n",
      "Total Timesteps: 12300 Episode Num: 123 Reward: -1.96760357162479\n",
      "Total Timesteps: 12400 Episode Num: 124 Reward: -0.23288382987683098\n",
      "Total Timesteps: 12500 Episode Num: 125 Reward: -2.703842813908963\n",
      "Total Timesteps: 12600 Episode Num: 126 Reward: 5.943726777759242\n",
      "Total Timesteps: 12700 Episode Num: 127 Reward: 5.381361565341336\n",
      "Total Timesteps: 12800 Episode Num: 128 Reward: -1.100763438602701\n",
      "Total Timesteps: 12900 Episode Num: 129 Reward: -3.6494025358762676\n",
      "Total Timesteps: 13000 Episode Num: 130 Reward: 4.595351878658992\n",
      "Total Timesteps: 13100 Episode Num: 131 Reward: -1.0398282354052477\n",
      "Total Timesteps: 13200 Episode Num: 132 Reward: -4.261211002774137\n",
      "Total Timesteps: 13300 Episode Num: 133 Reward: -1.072829925545015\n",
      "Total Timesteps: 13400 Episode Num: 134 Reward: -0.9724319039396433\n",
      "Total Timesteps: 13500 Episode Num: 135 Reward: 43.65736055344853\n",
      "Total Timesteps: 13600 Episode Num: 136 Reward: -4.04233821117749\n",
      "Total Timesteps: 13700 Episode Num: 137 Reward: -10.746347889438752\n",
      "Total Timesteps: 13800 Episode Num: 138 Reward: -4.956690062904659\n",
      "Total Timesteps: 13900 Episode Num: 139 Reward: -4.741281208002068\n",
      "Total Timesteps: 14000 Episode Num: 140 Reward: -4.791388483360027\n",
      "Total Timesteps: 14100 Episode Num: 141 Reward: -1.7646156004751752\n",
      "Total Timesteps: 14200 Episode Num: 142 Reward: -2.915132127252224\n",
      "Total Timesteps: 14300 Episode Num: 143 Reward: 31.69862124281089\n",
      "Total Timesteps: 14400 Episode Num: 144 Reward: 6.003814177216782\n",
      "Total Timesteps: 14500 Episode Num: 145 Reward: -5.045351516354211\n",
      "Total Timesteps: 14600 Episode Num: 146 Reward: -1.1446777953462313\n",
      "Total Timesteps: 14700 Episode Num: 147 Reward: -2.2864281764232333\n",
      "Total Timesteps: 14800 Episode Num: 148 Reward: -6.88767065718124\n",
      "Total Timesteps: 14900 Episode Num: 149 Reward: 0.5230424663040596\n",
      "Total Timesteps: 15000 Episode Num: 150 Reward: 0.8219297757283636\n",
      "-1.000000, \n",
      "\n",
      "\n",
      "---------------------------------------\n",
      "Average Reward over the Evaluation Step: -5.692327\n",
      "---------------------------------------\n",
      "Total Timesteps: 15100 Episode Num: 151 Reward: -1.3164597756300518\n",
      "Total Timesteps: 15200 Episode Num: 152 Reward: -3.555246417545654\n",
      "Total Timesteps: 15300 Episode Num: 153 Reward: -0.629066053089442\n",
      "Total Timesteps: 15400 Episode Num: 154 Reward: 1.5684337904487757\n",
      "Total Timesteps: 15500 Episode Num: 155 Reward: -0.2285700448767185\n",
      "Total Timesteps: 15600 Episode Num: 156 Reward: 0.8147649143527679\n",
      "Total Timesteps: 15700 Episode Num: 157 Reward: -6.160013043649183\n",
      "Total Timesteps: 15800 Episode Num: 158 Reward: 4.307994070415944\n",
      "Total Timesteps: 15900 Episode Num: 159 Reward: -5.740246081784019\n",
      "Total Timesteps: 16000 Episode Num: 160 Reward: -1.9781107708873382\n",
      "Total Timesteps: 16100 Episode Num: 161 Reward: -2.610831688532802\n",
      "Total Timesteps: 16200 Episode Num: 162 Reward: 5.094040261494056\n",
      "Total Timesteps: 16300 Episode Num: 163 Reward: 5.448594858673803\n",
      "Total Timesteps: 16400 Episode Num: 164 Reward: 0.7322908153356291\n",
      "Total Timesteps: 16500 Episode Num: 165 Reward: -5.375347431314174\n",
      "Total Timesteps: 16600 Episode Num: 166 Reward: 1.3655121497406668\n",
      "Total Timesteps: 16700 Episode Num: 167 Reward: -3.1341095696061623\n",
      "Total Timesteps: 16800 Episode Num: 168 Reward: 0.13182270992915557\n",
      "Total Timesteps: 16900 Episode Num: 169 Reward: 5.184990527186047\n",
      "Total Timesteps: 17000 Episode Num: 170 Reward: -2.9040666784012092\n",
      "Total Timesteps: 17100 Episode Num: 171 Reward: -3.4603481922921757\n",
      "Total Timesteps: 17200 Episode Num: 172 Reward: 1.3114533539014666\n",
      "Total Timesteps: 17300 Episode Num: 173 Reward: -9.634854921210746\n",
      "Total Timesteps: 17400 Episode Num: 174 Reward: 6.748422015552252\n",
      "Total Timesteps: 17500 Episode Num: 175 Reward: -7.742538456361766\n",
      "Total Timesteps: 17600 Episode Num: 176 Reward: -3.8014993320068635\n",
      "Total Timesteps: 17700 Episode Num: 177 Reward: 10.928937612398745\n",
      "Total Timesteps: 17800 Episode Num: 178 Reward: -3.9060280526603774\n",
      "Total Timesteps: 17900 Episode Num: 179 Reward: -2.893145521761941\n",
      "Total Timesteps: 18000 Episode Num: 180 Reward: -0.7885648205550926\n",
      "Total Timesteps: 18100 Episode Num: 181 Reward: -3.857033971227562\n",
      "Total Timesteps: 18200 Episode Num: 182 Reward: -4.125309841700968\n",
      "Total Timesteps: 18300 Episode Num: 183 Reward: -3.2571591183706587\n",
      "Total Timesteps: 18400 Episode Num: 184 Reward: -3.4568473806197066\n",
      "Total Timesteps: 18500 Episode Num: 185 Reward: -5.647033119427185\n",
      "Total Timesteps: 18600 Episode Num: 186 Reward: 420.3550089600891\n",
      "Total Timesteps: 18700 Episode Num: 187 Reward: -1.9132789236718428\n",
      "Total Timesteps: 18800 Episode Num: 188 Reward: 1.8331090194784088\n",
      "Total Timesteps: 18900 Episode Num: 189 Reward: 8.721021076325245\n",
      "Total Timesteps: 19000 Episode Num: 190 Reward: -9.448672025749925\n",
      "Total Timesteps: 19100 Episode Num: 191 Reward: -3.7105380738855405\n",
      "Total Timesteps: 19200 Episode Num: 192 Reward: 0.04189716526106818\n",
      "Total Timesteps: 19300 Episode Num: 193 Reward: 2.9910307840220693\n",
      "Total Timesteps: 19400 Episode Num: 194 Reward: -0.7281675164173321\n",
      "Total Timesteps: 19500 Episode Num: 195 Reward: -1.5058850386805744\n",
      "Total Timesteps: 19600 Episode Num: 196 Reward: 0.662490740014451\n",
      "Total Timesteps: 19700 Episode Num: 197 Reward: 4.711163553076579\n",
      "Total Timesteps: 19800 Episode Num: 198 Reward: -3.2728474924431\n",
      "Total Timesteps: 19900 Episode Num: 199 Reward: -13.225827822309256\n",
      "Total Timesteps: 20000 Episode Num: 200 Reward: -0.2987002903816507\n",
      "-1.000000, \n",
      "\n",
      "\n",
      "---------------------------------------\n",
      "Average Reward over the Evaluation Step: -1.711146\n",
      "---------------------------------------\n",
      "Total Timesteps: 20100 Episode Num: 201 Reward: 7.802178048982896\n",
      "Total Timesteps: 20200 Episode Num: 202 Reward: -35.559706177744005\n",
      "Total Timesteps: 20300 Episode Num: 203 Reward: 0.4728277614366442\n",
      "Total Timesteps: 20400 Episode Num: 204 Reward: -1.1906020954128265\n",
      "Total Timesteps: 20500 Episode Num: 205 Reward: 4.354147477610074\n",
      "Total Timesteps: 20600 Episode Num: 206 Reward: -3.479436794571204\n",
      "Total Timesteps: 20700 Episode Num: 207 Reward: 20.176268987267274\n",
      "Total Timesteps: 20800 Episode Num: 208 Reward: -2.0419340467917935\n",
      "Total Timesteps: 20900 Episode Num: 209 Reward: -3.8312275565225513\n",
      "Total Timesteps: 21000 Episode Num: 210 Reward: 0.47356812544066723\n",
      "Total Timesteps: 21100 Episode Num: 211 Reward: 0.41170401287300157\n",
      "Total Timesteps: 21200 Episode Num: 212 Reward: 0.5527103213607543\n",
      "Total Timesteps: 21300 Episode Num: 213 Reward: 7.74796105141669\n",
      "Total Timesteps: 21400 Episode Num: 214 Reward: 5.184320686585075\n",
      "Total Timesteps: 21500 Episode Num: 215 Reward: -3.130035401607363\n",
      "Total Timesteps: 21600 Episode Num: 216 Reward: -0.5543329541087876\n",
      "Total Timesteps: 21700 Episode Num: 217 Reward: 0.31336681779774217\n",
      "Total Timesteps: 21800 Episode Num: 218 Reward: 10.083026257108777\n",
      "Total Timesteps: 21900 Episode Num: 219 Reward: -0.3884371891902948\n",
      "Total Timesteps: 22000 Episode Num: 220 Reward: -2.3968457044928693\n",
      "Total Timesteps: 22100 Episode Num: 221 Reward: 7.157473782349762\n",
      "Total Timesteps: 22200 Episode Num: 222 Reward: -4.470446895834096\n",
      "Total Timesteps: 22300 Episode Num: 223 Reward: 7.716760674873309\n",
      "Total Timesteps: 22400 Episode Num: 224 Reward: -4.18735295305352\n",
      "Total Timesteps: 22500 Episode Num: 225 Reward: -14.073236508070076\n",
      "Total Timesteps: 22600 Episode Num: 226 Reward: 7.240302134821153\n",
      "Total Timesteps: 22700 Episode Num: 227 Reward: -0.22235952002238635\n",
      "Total Timesteps: 22800 Episode Num: 228 Reward: 5.696098476699747\n",
      "Total Timesteps: 22900 Episode Num: 229 Reward: -3.3142032382308484\n",
      "Total Timesteps: 23000 Episode Num: 230 Reward: 3.981293625463695\n",
      "Total Timesteps: 23100 Episode Num: 231 Reward: -3.5463796197770057\n",
      "Total Timesteps: 23200 Episode Num: 232 Reward: -2.5397992828146125\n",
      "Total Timesteps: 23300 Episode Num: 233 Reward: -2.802344477705599\n",
      "Total Timesteps: 23400 Episode Num: 234 Reward: -4.414071413424696\n",
      "Total Timesteps: 23500 Episode Num: 235 Reward: 3.026369534406088\n",
      "Total Timesteps: 23600 Episode Num: 236 Reward: -3.7297853562137337\n",
      "Total Timesteps: 23700 Episode Num: 237 Reward: 6.162868747219374\n",
      "Total Timesteps: 23800 Episode Num: 238 Reward: -0.30765173990973405\n",
      "Total Timesteps: 23900 Episode Num: 239 Reward: 1.9303852341380876\n",
      "Total Timesteps: 24000 Episode Num: 240 Reward: -3.6826771898338024\n",
      "Total Timesteps: 24100 Episode Num: 241 Reward: 6.70943375832705\n",
      "Total Timesteps: 24200 Episode Num: 242 Reward: -0.2703406493147925\n",
      "Total Timesteps: 24300 Episode Num: 243 Reward: 3.556406967783089\n",
      "Total Timesteps: 24400 Episode Num: 244 Reward: 3.90497877660014\n",
      "Total Timesteps: 24500 Episode Num: 245 Reward: 4.448286493344835\n",
      "Total Timesteps: 24600 Episode Num: 246 Reward: 485.66524554412103\n",
      "Total Timesteps: 24700 Episode Num: 247 Reward: 2.9834707033900703\n",
      "Total Timesteps: 24800 Episode Num: 248 Reward: -0.9040837600268432\n",
      "Total Timesteps: 24900 Episode Num: 249 Reward: 0.8118665490488214\n",
      "Total Timesteps: 25000 Episode Num: 250 Reward: -5.955162029382991\n",
      "-1.000000, \n",
      "\n",
      "\n",
      "---------------------------------------\n",
      "Average Reward over the Evaluation Step: -1.041342\n",
      "---------------------------------------\n",
      "Total Timesteps: 25100 Episode Num: 251 Reward: -0.7831115775697945\n",
      "Total Timesteps: 25200 Episode Num: 252 Reward: 1.3833352421196603\n",
      "Total Timesteps: 25300 Episode Num: 253 Reward: -0.3416967554651815\n",
      "Total Timesteps: 25400 Episode Num: 254 Reward: 1.2131997387516569\n",
      "Total Timesteps: 25500 Episode Num: 255 Reward: 0.12653769474861432\n",
      "Total Timesteps: 25600 Episode Num: 256 Reward: -4.0834927307139335\n",
      "Total Timesteps: 25700 Episode Num: 257 Reward: 3.3038868743301326\n",
      "Total Timesteps: 25800 Episode Num: 258 Reward: -3.5534739723533577\n",
      "Total Timesteps: 25900 Episode Num: 259 Reward: 0.9230856997164616\n",
      "Total Timesteps: 26000 Episode Num: 260 Reward: 2.630302848447353\n",
      "Total Timesteps: 26100 Episode Num: 261 Reward: -0.4805920641607079\n",
      "Total Timesteps: 26200 Episode Num: 262 Reward: 6.440886108688333\n",
      "Total Timesteps: 26300 Episode Num: 263 Reward: 2.8583528025526967\n",
      "Total Timesteps: 26400 Episode Num: 264 Reward: 3.055239590377913\n",
      "Total Timesteps: 26500 Episode Num: 265 Reward: 5.590915704938232\n",
      "Total Timesteps: 26600 Episode Num: 266 Reward: 2.7610478178466216\n",
      "Total Timesteps: 26700 Episode Num: 267 Reward: 0.5028879772129067\n",
      "Total Timesteps: 26800 Episode Num: 268 Reward: -116.16600983527405\n",
      "Total Timesteps: 26900 Episode Num: 269 Reward: 7.1848811964693\n",
      "Total Timesteps: 27000 Episode Num: 270 Reward: -11.881177966645767\n",
      "Total Timesteps: 27100 Episode Num: 271 Reward: 1.2247663758189422\n",
      "Total Timesteps: 27200 Episode Num: 272 Reward: -9.305799089999176\n",
      "Total Timesteps: 27300 Episode Num: 273 Reward: -0.4789503486033037\n",
      "Total Timesteps: 27400 Episode Num: 274 Reward: -4.49352537457549\n",
      "Total Timesteps: 27500 Episode Num: 275 Reward: -6.303374393687968\n",
      "Total Timesteps: 27600 Episode Num: 276 Reward: 9.092764509267397\n",
      "Total Timesteps: 27700 Episode Num: 277 Reward: -0.2990694064160668\n",
      "Total Timesteps: 27800 Episode Num: 278 Reward: -18.341435164224777\n",
      "Total Timesteps: 27900 Episode Num: 279 Reward: -2.8263784661071183\n",
      "Total Timesteps: 28000 Episode Num: 280 Reward: 2.235895236086117\n",
      "Total Timesteps: 28100 Episode Num: 281 Reward: 4.424106767034185\n",
      "Total Timesteps: 28200 Episode Num: 282 Reward: -2.241049393731073\n",
      "Total Timesteps: 28300 Episode Num: 283 Reward: 7.198014820080397\n",
      "Total Timesteps: 28400 Episode Num: 284 Reward: -17.64407087922155\n",
      "Total Timesteps: 28500 Episode Num: 285 Reward: 0.5487233795852368\n",
      "Total Timesteps: 28600 Episode Num: 286 Reward: 2.5006463759815345\n",
      "Total Timesteps: 28700 Episode Num: 287 Reward: -3.916410888944668\n",
      "Total Timesteps: 28800 Episode Num: 288 Reward: 7.903139517617321\n",
      "Total Timesteps: 28900 Episode Num: 289 Reward: 0.7106895192802272\n",
      "Total Timesteps: 29000 Episode Num: 290 Reward: -2.881960736075838\n",
      "Total Timesteps: 29100 Episode Num: 291 Reward: 6.489019525258357\n",
      "Total Timesteps: 29200 Episode Num: 292 Reward: 537.014434822313\n",
      "Total Timesteps: 29300 Episode Num: 293 Reward: 1.8107994702491195\n",
      "Total Timesteps: 29400 Episode Num: 294 Reward: -6.339674095576346\n",
      "Total Timesteps: 29500 Episode Num: 295 Reward: -0.11079429272131681\n",
      "Total Timesteps: 29600 Episode Num: 296 Reward: -0.13155546542347613\n",
      "Total Timesteps: 29700 Episode Num: 297 Reward: -2.883331034711178\n",
      "Total Timesteps: 29800 Episode Num: 298 Reward: 0.26911171964614433\n",
      "Total Timesteps: 29900 Episode Num: 299 Reward: -1.3889259313333644\n",
      "-1.000000, \n",
      "\n",
      "\n",
      "---------------------------------------\n",
      "Average Reward over the Evaluation Step: 0.966980\n",
      "---------------------------------------\n"
     ]
    }
   ],
   "source": [
    "# We start the main loop over 500,000 timesteps\n",
    "max_episode_steps = env._max_episode_steps\n",
    "env_og = env\n",
    "while total_timesteps < max_timesteps:\n",
    "\n",
    "    # If the episode is done\n",
    "    if done:\n",
    "\n",
    "        # If we are not at the very beginning, we start the training process of the model\n",
    "        if total_timesteps != 0:\n",
    "            print(\"Total Timesteps: {} Episode Num: {} Reward: {}\".format(total_timesteps, episode_num, episode_reward))\n",
    "            policy.train(replay_buffer, episode_timesteps, batch_size, discount, tau, policy_noise, noise_clip, policy_freq)\n",
    "\n",
    "        # We evaluate the episode and we save the policy\n",
    "        if timesteps_since_eval >= eval_freq:\n",
    "            timesteps_since_eval %= eval_freq\n",
    "            evaluations.append(evaluate_policy(policy))\n",
    "            policy.save(file_name, directory=\"../Model_Repository/pytorch_models\")\n",
    "            np.save(\"../Model_Repository/results/%s\" % (file_name), evaluations)\n",
    "\n",
    "        # When the training step is done, we reset the state of the environment\n",
    "        obs = env.reset()\n",
    "\n",
    "        # Set the Done to False\n",
    "        done = False\n",
    "\n",
    "        # Set rewards and episode timesteps to zero\n",
    "        episode_reward = 0\n",
    "        episode_timesteps = 0\n",
    "        episode_num += 1\n",
    "\n",
    "    # Before 10000 timesteps, we play random actions\n",
    "    if total_timesteps < start_timesteps:\n",
    "        action = env.action_space.sample()\n",
    "    else: # After 10000 timesteps, we switch to the model\n",
    "        # 這邊加 wrapper autoscale action\n",
    "        action = policy.select_action(np.array(obs))\n",
    "    # If the explore_noise parameter is not 0, we add noise to the action and we clip it\n",
    "        if expl_noise != 0:\n",
    "            action = (action + np.random.normal(0, expl_noise, size=env.action_space.shape[0])).clip(env.action_space.low, env.action_space.high)\n",
    "    # The agent performs the action in the environment, then reaches the next state and receives the reward\n",
    "    new_obs, reward, done, _ = env.step(action)\n",
    "    # We check if the episode is done\n",
    "    done_bool = 0 if episode_timesteps + 1 == max_episode_steps else float(done)\n",
    "\n",
    "    # We increase the total reward\n",
    "    episode_reward += reward\n",
    "\n",
    "    # We store the new transition into the Experience Replay memory (ReplayBuffer)\n",
    "    replay_buffer.add((obs, new_obs, action, reward, done_bool))\n",
    "\n",
    "    # We update the state, the episode timestep, the total timesteps, and the timesteps since the evaluation of the policy\n",
    "    obs = new_obs\n",
    "    episode_timesteps += 1\n",
    "    total_timesteps += 1\n",
    "    timesteps_since_eval += 1\n",
    "\n",
    "# We add the last policy evaluation to our list of evaluations and we save our model\n",
    "evaluations.append(evaluate_policy(policy))\n",
    "if save_models: policy.save(\"%s\" % (file_name), directory=\"../Model_Repository/pytorch_models\")\n",
    "np.save(\"../Model_Repository/results/%s\" % (file_name), evaluations)"
   ]
  },
  {
   "cell_type": "code",
   "execution_count": null,
   "metadata": {
    "colab": {
     "base_uri": "https://localhost:8080/"
    },
    "id": "ErS13vajyq7v",
    "outputId": "60e53270-c0d2-450b-d6f5-c0085d967041"
   },
   "outputs": [
    {
     "data": {
      "text/plain": [
       "(0.5286252256739113, array([1.]), 0.4756302573445379, 0.4873949631092436)"
      ]
     },
     "execution_count": 21,
     "metadata": {},
     "output_type": "execute_result"
    }
   ],
   "source": [
    "env.reward,action,env.price,env.next_price"
   ]
  },
  {
   "cell_type": "markdown",
   "metadata": {
    "id": "eCCaxTKkg_cf"
   },
   "source": [
    "## PLOTTING"
   ]
  },
  {
   "cell_type": "code",
   "execution_count": null,
   "metadata": {
    "id": "qIQk-GFsg_cf"
   },
   "outputs": [],
   "source": [
    "import pandas as pd\n",
    "from sklearn import preprocessing\n",
    "\n",
    "test_address = \"../File_Repository/Test set/\" + id + \"_test.csv\"\n",
    "train_address = \"../File_Repository/Train set/\" + id + \"_train.csv\"\n",
    "test_dataset = pd.read_csv(test_address)\n",
    "train_dataset = pd.read_csv(train_address)\n",
    "\n",
    "X_train = train_dataset.iloc[:, 1:].values\n",
    "X_test = test_dataset.iloc[:, 1:].values"
   ]
  },
  {
   "cell_type": "code",
   "execution_count": null,
   "metadata": {
    "id": "vMreQqaRg_cf"
   },
   "outputs": [],
   "source": [
    "def calculate_ema(prices, days, smoothing=2):\n",
    "    ema = [sum(prices[:days]) / days]\n",
    "    for price in prices[days:]:\n",
    "        ema.append((price * (smoothing / (1 + days))) + ema[-1] * (1 - (smoothing / (1 + days))))\n",
    "    return ema\n",
    "\n",
    "def MACD(list_input):\n",
    "    prices = list_input[:,0]\n",
    "    ema_short = calculate_ema(prices, 12)\n",
    "    ema_long = calculate_ema(prices, 26)\n",
    "    len(ema_short)\n",
    "    dif = []\n",
    "    for i in range(0,len(prices)-len(ema_short)):\n",
    "        tmp = ema_short[i]\n",
    "        ema_short.insert( i, tmp)\n",
    "\n",
    "    for j in range(0,len(prices)-len(ema_long)):\n",
    "        tmp = ema_long[i]\n",
    "        ema_long.insert( i, tmp)\n",
    "\n",
    "    for k in range(0,len(prices)):\n",
    "        dif.append(ema_short[k] - ema_long[k])\n",
    "\n",
    "    MACD = calculate_ema(dif, 9)\n",
    "    for j in range(0,len(prices)-len(MACD)):\n",
    "        tmp = MACD[i]\n",
    "        MACD.insert( i, tmp)\n",
    "\n",
    "    MACD_arr = np.array(MACD).reshape(len(MACD),1)\n",
    "    list_input = np.hstack((list_input,MACD_arr))\n",
    "    return list_input"
   ]
  },
  {
   "cell_type": "code",
   "execution_count": null,
   "metadata": {
    "colab": {
     "base_uri": "https://localhost:8080/"
    },
    "id": "sfM3--xjYPtM",
    "outputId": "ebed5641-f1c6-414e-d2c2-f62a5f46898b"
   },
   "outputs": [
    {
     "data": {
      "text/plain": [
       "737"
      ]
     },
     "execution_count": 24,
     "metadata": {},
     "output_type": "execute_result"
    }
   ],
   "source": [
    "len(X_train)"
   ]
  },
  {
   "cell_type": "code",
   "execution_count": null,
   "metadata": {
    "id": "bA94xzahg_cf"
   },
   "outputs": [],
   "source": [
    "X_train = MACD(list_input = X_train)\n",
    "X_test = MACD(list_input = X_test)\n",
    "scaler = preprocessing.MinMaxScaler(feature_range=(0.00000001, 1))\n",
    "scaler.fit(X_train)\n",
    "X_test = scaler.transform(X_test)"
   ]
  },
  {
   "cell_type": "code",
   "execution_count": null,
   "metadata": {
    "id": "zNN7UVm-6yER"
   },
   "outputs": [],
   "source": [
    "X_test = data[900:1200,:]"
   ]
  },
  {
   "cell_type": "code",
   "execution_count": null,
   "metadata": {
    "colab": {
     "base_uri": "https://localhost:8080/",
     "height": 431
    },
    "id": "HxAP2AXWg_cf",
    "outputId": "3b29dd93-6ad2-4623-87a5-d0543680a65b"
   },
   "outputs": [
    {
     "data": {
      "image/png": "[encoded data removed]",
      "text/plain": [
       "<Figure size 640x480 with 1 Axes>"
      ]
     },
     "metadata": {},
     "output_type": "display_data"
    }
   ],
   "source": [
    "import numpy as np\n",
    "import matplotlib.pyplot as plt\n",
    "from matplotlib import cm\n",
    "from matplotlib.collections import LineCollection\n",
    "\n",
    "action_list = []\n",
    "price_list = []\n",
    "n_list = []\n",
    "reward_list = []\n",
    "index = 0\n",
    "for n in X_test:\n",
    "    action = policy.select_action(np.array(n))\n",
    "    action_list.append(action)\n",
    "    price_list.append(n[0])\n",
    "    index +=1\n",
    "    n_list.append(index)\n",
    "\n",
    "price_list.pop(0)\n",
    "n_list.pop(0)\n",
    "action_list.pop()\n",
    "# 製作figure\n",
    "fig = plt.figure()\n",
    "\n",
    "#圖表的設定\n",
    "ax = fig.add_subplot(1, 1, 1)\n",
    "\n",
    "#直線圖\n",
    "ax.plot(n_list,price_list, color='grey',linewidth=0.5,label='price trend')\n",
    "#散佈圖\n",
    "norm = plt.Normalize(-1, 1)\n",
    "ax.scatter(n_list, price_list, c=norm(action_list), cmap='coolwarm',s=3);\n",
    "plt.legend()\n",
    "plt.show()\n",
    "\n",
    "# 紅色為正值 藍色為負值\n",
    "# print('本次測試結果，將會賺得：' + str(money-100000) + '元(本金為100000)')"
   ]
  },
  {
   "cell_type": "code",
   "execution_count": null,
   "metadata": {
    "colab": {
     "base_uri": "https://localhost:8080/"
    },
    "id": "Jvtwnv25g_cg",
    "outputId": "ae44c8fb-062a-437d-c60b-a98f737761d4"
   },
   "outputs": [
    {
     "data": {
      "text/plain": [
       "[array([0.99999547], dtype=float32),\n",
       " array([0.9999986], dtype=float32),\n",
       " array([0.99999946], dtype=float32),\n",
       " array([0.99999994], dtype=float32),\n",
       " array([1.], dtype=float32),\n",
       " array([0.9999999], dtype=float32),\n",
       " array([0.99999994], dtype=float32),\n",
       " array([-0.99998224], dtype=float32),\n",
       " array([0.9998285], dtype=float32),\n",
       " array([0.99999654], dtype=float32),\n",
       " array([0.9995096], dtype=float32),\n",
       " array([0.9998627], dtype=float32),\n",
       " array([0.99992377], dtype=float32),\n",
       " array([0.9999926], dtype=float32),\n",
       " array([0.9999958], dtype=float32),\n",
       " array([0.9991361], dtype=float32),\n",
       " array([0.99987394], dtype=float32),\n",
       " array([0.99997216], dtype=float32),\n",
       " array([0.9999983], dtype=float32),\n",
       " array([0.9999823], dtype=float32),\n",
       " array([0.99998945], dtype=float32),\n",
       " array([0.99998707], dtype=float32),\n",
       " array([0.99998385], dtype=float32),\n",
       " array([0.9997745], dtype=float32),\n",
       " array([0.99983054], dtype=float32),\n",
       " array([0.9895123], dtype=float32),\n",
       " array([0.99873286], dtype=float32),\n",
       " array([0.99916065], dtype=float32),\n",
       " array([0.9996867], dtype=float32),\n",
       " array([0.99979556], dtype=float32),\n",
       " array([0.99940675], dtype=float32),\n",
       " array([0.99968326], dtype=float32),\n",
       " array([0.99796057], dtype=float32),\n",
       " array([0.89297795], dtype=float32),\n",
       " array([0.99368256], dtype=float32),\n",
       " array([0.9898224], dtype=float32),\n",
       " array([0.9696698], dtype=float32),\n",
       " array([0.13608548], dtype=float32),\n",
       " array([0.7999083], dtype=float32),\n",
       " array([0.92736286], dtype=float32),\n",
       " array([0.98367816], dtype=float32),\n",
       " array([0.97541577], dtype=float32),\n",
       " array([0.9591869], dtype=float32),\n",
       " array([-0.9992343], dtype=float32),\n",
       " array([-0.9754896], dtype=float32),\n",
       " array([0.2715312], dtype=float32),\n",
       " array([-0.99999976], dtype=float32),\n",
       " array([-0.66634846], dtype=float32),\n",
       " array([-1.], dtype=float32),\n",
       " array([-0.99935675], dtype=float32),\n",
       " array([-0.99113065], dtype=float32),\n",
       " array([-0.9999683], dtype=float32),\n",
       " array([-0.99999994], dtype=float32),\n",
       " array([-0.9996477], dtype=float32),\n",
       " array([-1.], dtype=float32),\n",
       " array([-0.31536344], dtype=float32),\n",
       " array([-0.27707326], dtype=float32),\n",
       " array([-0.10140812], dtype=float32),\n",
       " array([0.1464743], dtype=float32),\n",
       " array([-0.99767387], dtype=float32),\n",
       " array([1.], dtype=float32),\n",
       " array([1.], dtype=float32),\n",
       " array([1.], dtype=float32),\n",
       " array([1.], dtype=float32),\n",
       " array([1.], dtype=float32),\n",
       " array([1.], dtype=float32),\n",
       " array([0.9999754], dtype=float32),\n",
       " array([1.], dtype=float32),\n",
       " array([1.], dtype=float32),\n",
       " array([1.], dtype=float32),\n",
       " array([1.], dtype=float32),\n",
       " array([1.], dtype=float32),\n",
       " array([1.], dtype=float32),\n",
       " array([1.], dtype=float32),\n",
       " array([0.99682015], dtype=float32),\n",
       " array([0.99885976], dtype=float32),\n",
       " array([0.99990565], dtype=float32),\n",
       " array([0.9998774], dtype=float32),\n",
       " array([0.9999999], dtype=float32),\n",
       " array([0.9992849], dtype=float32),\n",
       " array([0.9975248], dtype=float32),\n",
       " array([0.99803555], dtype=float32),\n",
       " array([0.99986744], dtype=float32),\n",
       " array([0.9993873], dtype=float32),\n",
       " array([0.9990321], dtype=float32),\n",
       " array([0.9994879], dtype=float32),\n",
       " array([-0.22356795], dtype=float32),\n",
       " array([0.87704414], dtype=float32),\n",
       " array([0.7013899], dtype=float32),\n",
       " array([0.494954], dtype=float32),\n",
       " array([0.9842499], dtype=float32),\n",
       " array([0.9862659], dtype=float32),\n",
       " array([0.60186476], dtype=float32),\n",
       " array([0.568745], dtype=float32),\n",
       " array([0.6817111], dtype=float32),\n",
       " array([0.79865575], dtype=float32),\n",
       " array([-0.46263838], dtype=float32),\n",
       " array([0.981313], dtype=float32),\n",
       " array([-0.99947906], dtype=float32),\n",
       " array([-0.9906446], dtype=float32),\n",
       " array([0.8152542], dtype=float32),\n",
       " array([0.95113355], dtype=float32),\n",
       " array([0.88931036], dtype=float32),\n",
       " array([-0.99996084], dtype=float32),\n",
       " array([0.93664026], dtype=float32),\n",
       " array([0.7115281], dtype=float32),\n",
       " array([-0.14202325], dtype=float32),\n",
       " array([0.9564743], dtype=float32),\n",
       " array([0.89844], dtype=float32),\n",
       " array([0.9504286], dtype=float32),\n",
       " array([0.5604048], dtype=float32),\n",
       " array([-0.9960712], dtype=float32),\n",
       " array([-0.5811873], dtype=float32),\n",
       " array([-0.9998813], dtype=float32),\n",
       " array([-0.9999746], dtype=float32),\n",
       " array([-0.9999996], dtype=float32),\n",
       " array([-0.99999774], dtype=float32),\n",
       " array([-0.724558], dtype=float32),\n",
       " array([1.], dtype=float32),\n",
       " array([1.], dtype=float32),\n",
       " array([1.], dtype=float32),\n",
       " array([1.], dtype=float32),\n",
       " array([0.67006934], dtype=float32),\n",
       " array([0.99170667], dtype=float32),\n",
       " array([1.], dtype=float32),\n",
       " array([0.99793154], dtype=float32),\n",
       " array([1.], dtype=float32),\n",
       " array([0.9048052], dtype=float32),\n",
       " array([0.98242724], dtype=float32),\n",
       " array([0.92750156], dtype=float32),\n",
       " array([0.9916272], dtype=float32),\n",
       " array([0.96943176], dtype=float32),\n",
       " array([0.9942401], dtype=float32),\n",
       " array([1.], dtype=float32),\n",
       " array([0.99956346], dtype=float32),\n",
       " array([0.98391086], dtype=float32),\n",
       " array([0.86959326], dtype=float32),\n",
       " array([-0.21712475], dtype=float32),\n",
       " array([0.952685], dtype=float32),\n",
       " array([0.9873036], dtype=float32),\n",
       " array([0.95055676], dtype=float32),\n",
       " array([-0.9971584], dtype=float32),\n",
       " array([-0.6808522], dtype=float32),\n",
       " array([0.33227748], dtype=float32),\n",
       " array([0.3423542], dtype=float32),\n",
       " array([-0.96519077], dtype=float32),\n",
       " array([0.79844904], dtype=float32),\n",
       " array([0.54573065], dtype=float32),\n",
       " array([-0.99737084], dtype=float32),\n",
       " array([-0.83193266], dtype=float32),\n",
       " array([-0.9998795], dtype=float32),\n",
       " array([-0.4931119], dtype=float32),\n",
       " array([-1.], dtype=float32),\n",
       " array([-0.99999845], dtype=float32),\n",
       " array([-0.99998915], dtype=float32),\n",
       " array([-0.99999994], dtype=float32),\n",
       " array([-0.999998], dtype=float32),\n",
       " array([0.36640558], dtype=float32),\n",
       " array([-1.], dtype=float32),\n",
       " array([-0.99999994], dtype=float32),\n",
       " array([-0.9999997], dtype=float32),\n",
       " array([-0.99998564], dtype=float32),\n",
       " array([-0.52660525], dtype=float32),\n",
       " array([-1.], dtype=float32),\n",
       " array([-0.8337203], dtype=float32),\n",
       " array([-1.], dtype=float32),\n",
       " array([-1.], dtype=float32),\n",
       " array([-1.], dtype=float32),\n",
       " array([-1.], dtype=float32),\n",
       " array([-1.], dtype=float32),\n",
       " array([-1.], dtype=float32),\n",
       " array([-1.], dtype=float32),\n",
       " array([-1.], dtype=float32),\n",
       " array([-0.9999999], dtype=float32),\n",
       " array([-1.], dtype=float32),\n",
       " array([-1.], dtype=float32),\n",
       " array([-1.], dtype=float32),\n",
       " array([-1.], dtype=float32),\n",
       " array([-1.], dtype=float32),\n",
       " array([-1.], dtype=float32),\n",
       " array([-1.], dtype=float32),\n",
       " array([-1.], dtype=float32),\n",
       " array([-1.], dtype=float32),\n",
       " array([-1.], dtype=float32),\n",
       " array([-1.], dtype=float32),\n",
       " array([-1.], dtype=float32),\n",
       " array([-1.], dtype=float32),\n",
       " array([-1.], dtype=float32),\n",
       " array([-1.], dtype=float32),\n",
       " array([-1.], dtype=float32),\n",
       " array([-1.], dtype=float32),\n",
       " array([-1.], dtype=float32),\n",
       " array([-1.], dtype=float32),\n",
       " array([-1.], dtype=float32),\n",
       " array([-1.], dtype=float32),\n",
       " array([-1.], dtype=float32),\n",
       " array([-1.], dtype=float32),\n",
       " array([-1.], dtype=float32),\n",
       " array([-1.], dtype=float32),\n",
       " array([-1.], dtype=float32),\n",
       " array([-1.], dtype=float32),\n",
       " array([-1.], dtype=float32),\n",
       " array([-1.], dtype=float32),\n",
       " array([-1.], dtype=float32),\n",
       " array([-1.], dtype=float32),\n",
       " array([-1.], dtype=float32),\n",
       " array([-1.], dtype=float32),\n",
       " array([-1.], dtype=float32),\n",
       " array([-1.], dtype=float32),\n",
       " array([-1.], dtype=float32),\n",
       " array([-1.], dtype=float32),\n",
       " array([-1.], dtype=float32),\n",
       " array([-1.], dtype=float32),\n",
       " array([-1.], dtype=float32),\n",
       " array([-1.], dtype=float32),\n",
       " array([-1.], dtype=float32),\n",
       " array([-1.], dtype=float32),\n",
       " array([-1.], dtype=float32),\n",
       " array([-1.], dtype=float32),\n",
       " array([-1.], dtype=float32),\n",
       " array([-1.], dtype=float32),\n",
       " array([-1.], dtype=float32),\n",
       " array([-1.], dtype=float32),\n",
       " array([-1.], dtype=float32),\n",
       " array([-1.], dtype=float32),\n",
       " array([-0.99999946], dtype=float32),\n",
       " array([-1.], dtype=float32),\n",
       " array([-0.99999994], dtype=float32),\n",
       " array([-1.], dtype=float32),\n",
       " array([-1.], dtype=float32),\n",
       " array([-1.], dtype=float32),\n",
       " array([-1.], dtype=float32),\n",
       " array([-1.], dtype=float32),\n",
       " array([-1.], dtype=float32),\n",
       " array([-1.], dtype=float32)]"
      ]
     },
     "execution_count": 27,
     "metadata": {},
     "output_type": "execute_result"
    }
   ],
   "source": [
    "action_list[:]"
   ]
  },
  {
   "cell_type": "code",
   "execution_count": null,
   "metadata": {
    "colab": {
     "base_uri": "https://localhost:8080/"
    },
    "id": "6kKwRrTCdsbx",
    "outputId": "36e176e0-1a27-4527-8f4f-fb1c9098ca09"
   },
   "outputs": [
    {
     "data": {
      "text/plain": [
       "(750,\n",
       " array(1.12773109),\n",
       " array(1.14453781),\n",
       " 0.9853157123162579,\n",
       " -4.818443765432343,\n",
       " 0.5021545554694419,\n",
       " -0.8632578419925802)"
      ]
     },
     "execution_count": 56,
     "metadata": {},
     "output_type": "execute_result"
    }
   ],
   "source": [
    "import math\n",
    "stock = 1000\n",
    "action = -0.75\n",
    "t = 200\n",
    "price = np.array(X_test[t+1][0])\n",
    "next_price = np.array(X_test[t+2][0])\n",
    "punish_driver = 0.2\n",
    "reward_driver = 0.2\n",
    "interest_rate = 0.05\n",
    "\n",
    "amount = abs(math.floor( stock  * action))\n",
    "if action > 0:\n",
    "  reward_do = math.log10(float(next_price/price)) * amount\n",
    "else:\n",
    "  reward_do = math.log10(float(price/next_price)) * amount\n",
    "reward_leave = math.log10(1+float(interest_rate*30/365)) * (stock - amount) * price\n",
    "reward_function_sum = reward_do + reward_leave\n",
    "reward  = reward_function_sum * reward_driver if reward_function_sum >0  else reward_function_sum * punish_driver\n",
    "\n",
    "#leave_value = (stock - amount) * price\n",
    "#next_value = amount * next_price + leave_value\n",
    "#this_value = price * stock\n",
    "#reward_function = math.log10(float(this_value/next_value))\n",
    "#reward  = reward_function * reward_driver if reward_function >0  else reward_function * punish_driver\n",
    "\n",
    "amount,price,next_price,float(price/next_price),reward_do,reward_leave,reward"
   ]
  },
  {
   "cell_type": "markdown",
   "metadata": {
    "id": "wi6e2-_pu05e"
   },
   "source": [
    "## Inference"
   ]
  },
  {
   "cell_type": "code",
   "execution_count": null,
   "metadata": {
    "id": "oW4d1YAMqif1"
   },
   "outputs": [],
   "source": [
    "class Actor(nn.Module):\n",
    "\n",
    "    def __init__(self, state_dim, action_dim, max_action):\n",
    "        super(Actor, self).__init__()\n",
    "        self.layer_1 = nn.Linear(state_dim, 400)\n",
    "        self.layer_2 = nn.Linear(400, 300)\n",
    "        self.layer_3 = nn.Linear(300, action_dim)\n",
    "        self.max_action = max_action\n",
    "\n",
    "    def forward(self, x):\n",
    "        x = F.relu(self.layer_1(x))\n",
    "        x = F.relu(self.layer_2(x))\n",
    "        x = self.max_action * torch.tanh(self.layer_3(x))\n",
    "        return x\n",
    "\n",
    "class Critic(nn.Module):\n",
    "\n",
    "    def __init__(self, state_dim, action_dim):\n",
    "        super(Critic, self).__init__()\n",
    "        # Defining the first Critic neural network\n",
    "        self.layer_1 = nn.Linear(state_dim + action_dim, 400)\n",
    "        self.layer_2 = nn.Linear(400, 300)\n",
    "        self.layer_3 = nn.Linear(300, 1)\n",
    "        # Defining the second Critic neural network\n",
    "        self.layer_4 = nn.Linear(state_dim + action_dim, 400)\n",
    "        self.layer_5 = nn.Linear(400, 300)\n",
    "        self.layer_6 = nn.Linear(300, 1)\n",
    "\n",
    "    def forward(self, x, u):\n",
    "        xu = torch.cat([x, u], 1)\n",
    "        # Forward-Propagation on the first Critic Neural Network\n",
    "        x1 = F.relu(self.layer_1(xu))\n",
    "        x1 = F.relu(self.layer_2(x1))\n",
    "        x1 = self.layer_3(x1)\n",
    "        # Forward-Propagation on the second Critic Neural Network\n",
    "        x2 = F.relu(self.layer_4(xu))\n",
    "        x2 = F.relu(self.layer_5(x2))\n",
    "        x2 = self.layer_6(x2)\n",
    "        return x1, x2\n",
    "\n",
    "    def Q1(self, x, u):\n",
    "        xu = torch.cat([x, u], 1)\n",
    "        x1 = F.relu(self.layer_1(xu))\n",
    "        x1 = F.relu(self.layer_2(x1))\n",
    "        x1 = self.layer_3(x1)\n",
    "        return x1\n",
    "\n",
    "# Selecting the device (CPU or GPU)\n",
    "device = torch.device(\"cuda\" if torch.cuda.is_available() else \"cpu\")\n",
    "\n",
    "# Building the whole Training Process into a class\n",
    "\n",
    "class TD3(object):\n",
    "\n",
    "    def __init__(self, state_dim, action_dim, max_action):\n",
    "        self.actor = Actor(state_dim, action_dim, max_action).to(device)\n",
    "        self.actor_target = Actor(state_dim, action_dim, max_action).to(device)\n",
    "        self.actor_target.load_state_dict(self.actor.state_dict())\n",
    "        self.actor_optimizer = torch.optim.Adam(self.actor.parameters())\n",
    "        self.critic = Critic(state_dim, action_dim).to(device)\n",
    "        self.critic_target = Critic(state_dim, action_dim).to(device)\n",
    "        self.critic_target.load_state_dict(self.critic.state_dict())\n",
    "        self.critic_optimizer = torch.optim.Adam(self.critic.parameters())\n",
    "        self.max_action = max_action\n",
    "\n",
    "    def select_action(self, state):\n",
    "        state = torch.Tensor(state.reshape(1, -1)).to(device)\n",
    "        return self.actor(state).cpu().data.numpy().flatten()\n",
    "\n",
    "    def train(self, replay_buffer, iterations, batch_size=100, discount=0.99, tau=0.005, policy_noise=0.2, noise_clip=0.5, policy_freq=2):\n",
    "\n",
    "        for it in range(iterations):\n",
    "\n",
    "            # Step 4: We sample a batch of transitions (s, s’, a, r) from the memory\n",
    "            batch_states, batch_next_states, batch_actions, batch_rewards, batch_dones = replay_buffer.sample(batch_size)\n",
    "            state = torch.Tensor(batch_states).to(device)\n",
    "            next_state = torch.Tensor(batch_next_states).to(device)\n",
    "            action = torch.Tensor(batch_actions).to(device)\n",
    "            reward = torch.Tensor(batch_rewards).to(device)\n",
    "            done = torch.Tensor(batch_dones).to(device)\n",
    "\n",
    "            # Step 5: From the next state s’, the Actor target plays the next action a’\n",
    "            next_action = self.actor_target(next_state)\n",
    "\n",
    "            # Step 6: We add Gaussian noise to this next action a’ and we clamp it in a range of values supported by the environment\n",
    "            noise = torch.Tensor(batch_actions).data.normal_(0, policy_noise).to(device)\n",
    "            noise = noise.clamp(-noise_clip, noise_clip)\n",
    "            next_action = (next_action + noise).clamp(-self.max_action, self.max_action)\n",
    "\n",
    "            # Step 7: The two Critic targets take each the couple (s’, a’) as input and return two Q-values Qt1(s’,a’) and Qt2(s’,a’) as outputs\n",
    "            target_Q1, target_Q2 = self.critic_target(next_state, next_action)\n",
    "\n",
    "            # Step 8: We keep the minimum of these two Q-values: min(Qt1, Qt2)\n",
    "            target_Q = torch.min(target_Q1, target_Q2)\n",
    "\n",
    "            # Step 9: We get the final target of the two Critic models, which is: Qt = r + γ * min(Qt1, Qt2), where γ is the discount factor\n",
    "            target_Q = reward + ((1 - done) * discount * target_Q).detach()\n",
    "\n",
    "            # Step 10: The two Critic models take each the couple (s, a) as input and return two Q-values Q1(s,a) and Q2(s,a) as outputs\n",
    "            current_Q1, current_Q2 = self.critic(state, action)\n",
    "\n",
    "            # Step 11: We compute the loss coming from the two Critic models: Critic Loss = MSE_Loss(Q1(s,a), Qt) + MSE_Loss(Q2(s,a), Qt)\n",
    "            critic_loss = F.mse_loss(current_Q1, target_Q) + F.mse_loss(current_Q2, target_Q)\n",
    "\n",
    "            # Step 12: We backpropagate this Critic loss and update the parameters of the two Critic models with a SGD optimizer\n",
    "            self.critic_optimizer.zero_grad()\n",
    "            critic_loss.backward()\n",
    "            self.critic_optimizer.step()\n",
    "\n",
    "            # Step 13: Once every two iterations, we update our Actor model by performing gradient ascent on the output of the first Critic model\n",
    "            if it % policy_freq == 0:\n",
    "                actor_loss = -self.critic.Q1(state, self.actor(state)).mean()\n",
    "                self.actor_optimizer.zero_grad()\n",
    "                actor_loss.backward()\n",
    "                self.actor_optimizer.step()\n",
    "\n",
    "            # Step 14: Still once every two iterations, we update the weights of the Actor target by polyak averaging\n",
    "            for param, target_param in zip(self.critic.parameters(), self.critic_target.parameters()):\n",
    "                target_param.data.copy_(tau * param.data + (1 - tau) * target_param.data)\n",
    "\n",
    "            # Step 15: Still once every two iterations, we update the weights of the Critic target by polyak averaging\n",
    "            for param, target_param in zip(self.actor.parameters(), self.actor_target.parameters()):\n",
    "                target_param.data.copy_(tau * param.data + (1 - tau) * target_param.data)\n",
    "\n",
    "    # Making a save method to save a trained model\n",
    "    def save(self, filename, directory):\n",
    "        torch.save(self.actor.state_dict(), '%s/%s_actor.pth' % (directory, filename))\n",
    "        torch.save(self.critic.state_dict(), '%s/%s_critic.pth' % (directory, filename))\n",
    "\n",
    "    # Making a load method to load a pre-trained model\n",
    "    def load(self, filename, directory):\n",
    "        self.actor.load_state_dict(torch.load('%s/%s_actor.pth' % (directory, filename)))\n",
    "        self.critic.load_state_dict(torch.load('%s/%s_critic.pth' % (directory, filename)))\n",
    "\n",
    "def evaluate_policy(policy, eval_episodes=10):\n",
    "    avg_reward = 0.\n",
    "    for _ in range(eval_episodes):\n",
    "        obs = env.reset()\n",
    "        done = False\n",
    "    while not done:\n",
    "        action = policy.select_action(np.array(obs))\n",
    "        obs, reward, done, _ = env.step(action)\n",
    "        avg_reward += reward\n",
    "    avg_reward /= eval_episodes\n",
    "    print (\"---------------------------------------\")\n",
    "    print (\"Average Reward over the Evaluation Step: %f\" % (avg_reward))\n",
    "    print (\"---------------------------------------\")\n",
    "    return avg_reward\n",
    "\n",
    "env_name = \"SALL_ENV\"\n",
    "seed = 0\n",
    "\n",
    "file_name = \"%s_%s(seed:%s)\" % (\"TD3\", env_name, str(seed))\n",
    "print (\"---------------------------------------\")\n",
    "print (\"Settings: %s\" % (file_name))\n",
    "print (\"---------------------------------------\")\n",
    "\n",
    "import Enviorment_Setting\n",
    "\n",
    "\n",
    "eval_episodes = 10\n",
    "save_env_vid = True\n",
    "env = Enviorment_Setting.ETFenv(id = \"0050\")\n",
    "max_episode_steps = env._max_episode_steps\n",
    "\n",
    "env.seed(seed)\n",
    "torch.manual_seed(seed)\n",
    "np.random.seed(seed)\n",
    "state_dim = len(env.observation_space)\n",
    "action_dim = env.action_space.shape[0]\n",
    "max_action = float(env.action_space.high[0])\n",
    "policy = TD3(state_dim, action_dim, max_action)\n",
    "policy.load(file_name, '../Model_Repository/pytorch_models')\n",
    "_ = evaluate_policy(policy, eval_episodes=eval_episodes)"
   ]
  }
 ],
 "metadata": {
  "accelerator": "GPU",
  "colab": {
   "provenance": []
  },
  "gpuClass": "standard",
  "kernelspec": {
   "display_name": "Python 3 (ipykernel)",
   "language": "python",
   "name": "python3"
  },
  "language_info": {
   "codemirror_mode": {
    "name": "ipython",
    "version": 3
   },
   "file_extension": ".py",
   "mimetype": "text/x-python",
   "name": "python",
   "nbconvert_exporter": "python",
   "pygments_lexer": "ipython3",
   "version": "3.7.12"
  }
 },
 "nbformat": 4,
 "nbformat_minor": 1
}
