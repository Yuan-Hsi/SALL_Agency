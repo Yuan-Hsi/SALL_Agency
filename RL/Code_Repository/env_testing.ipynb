{
 "cells": [
  {
   "cell_type": "code",
   "execution_count": 21,
   "id": "c925a497",
   "metadata": {},
   "outputs": [],
   "source": [
    "from gym import Env, spaces\n",
    "from gym.spaces import Discrete, Box, Dict\n",
    "import pandas as pd\n",
    "import numpy as np\n",
    "import random\n",
    "import math\n",
    "from sklearn import preprocessing\n",
    "from sqlalchemy import create_engine, MetaData\n",
    "from sqlalchemy import Table, Column, Date, Integer, String, ForeignKey"
   ]
  },
  {
   "cell_type": "code",
   "execution_count": 22,
   "id": "d6b537c7",
   "metadata": {},
   "outputs": [],
   "source": [
    "DATABASE = {\n",
    "'host': 'localhost',\n",
    "'port': '8989',\n",
    "'database': 'AP',\n",
    "'user': 'root',\n",
    "'password': 'root'\n",
    "}\n",
    "\n",
    "# 连接数据库\n",
    "engine = create_engine(\"mysql+pymysql://{user}:{pw}@{host}:{port}/{db}\"\\\n",
    "                    .format(host=DATABASE['host'],port=DATABASE['port'], db=DATABASE['database'], user=DATABASE['user'], pw=DATABASE['password'])\\\n",
    "                    , echo=False)\n",
    "\n",
    "#连接数据表\n",
    "agent = 'bruno'\n",
    "account = 'Guest'\n",
    "query = \"SELECT * FROM `Agent_data` WHERE `Account` = '\" + account +\"' AND Agent = '\" +agent+\"'\" \n",
    "result = engine.execute(query)\n",
    "info = pd.DataFrame(result.fetchall(),columns=list(result.keys()))"
   ]
  },
  {
   "cell_type": "code",
   "execution_count": 23,
   "id": "7e1284b7",
   "metadata": {},
   "outputs": [],
   "source": [
    "\n",
    "#取會用到的參數名稱\n",
    "\n",
    "select = ''\n",
    "para_list = list(result.keys())[12:]\n",
    "for para in para_list:\n",
    "    if(info[para][0] == 1):\n",
    "        select = select+',`'+para+'`'\n",
    "select = select[1:]\n",
    "\n",
    "#取數據\n",
    "\n",
    "DATABASE = {\n",
    "'host': 'localhost',\n",
    "'port': '8989',\n",
    "'database': 'stock_data',\n",
    "'user': 'root',\n",
    "'password': 'root'\n",
    "}\n",
    "\n",
    "# 连接数据库\n",
    "engine = create_engine(\"mysql+pymysql://{user}:{pw}@{host}:{port}/{db}\"\\\n",
    "                    .format(host=DATABASE['host'],port=DATABASE['port'], db=DATABASE['database'], user=DATABASE['user'], pw=DATABASE['password'])\\\n",
    "                    , echo=False)\n",
    "\n",
    "#连接数据表\n",
    "query = \"SELECT \"+ select + \" FROM `\"+ info['stock_num'][0] +\"` WHERE `年月日` BETWEEN '\" + str(info['Start_date'][0]) +\"' AND '\" +str(info['End_date'][0])+\"'\" \n",
    "result = engine.execute(query)\n",
    "data_df = pd.DataFrame(result.fetchall(),columns=list(result.keys()))"
   ]
  },
  {
   "cell_type": "code",
   "execution_count": 24,
   "id": "28578771",
   "metadata": {
    "scrolled": true
   },
   "outputs": [],
   "source": [
    "def avg_fill(data,col_list):\n",
    "    for col in col_list:\n",
    "        na_array = data[col][data[col].isna()].index\n",
    "        for na in na_array:\n",
    "            forward = data[col][na-1:na-4].mean()\n",
    "            backward = data[col][na+1:na+4].mean()\n",
    "            if(math.isnan(forward) and math.isnan(backward)):\n",
    "                fill = 0\n",
    "            elif(math.isnan(forward) or math.isnan(backward)):\n",
    "                if(math.isnan(forward)):\n",
    "                    fill = backward\n",
    "                else:\n",
    "                    fill = forward\n",
    "            else:\n",
    "                fill = (forward + backward)/2 \n",
    "\n",
    "            data[col][na] = fill\n",
    "    return data"
   ]
  },
  {
   "cell_type": "code",
   "execution_count": 25,
   "id": "c618f5c3",
   "metadata": {},
   "outputs": [],
   "source": [
    "def calculate_ema(prices, days, smoothing=2):\n",
    "    ema = [sum(prices[:days]) / days]\n",
    "    for price in prices[days:]:\n",
    "        ema.append((price * (smoothing / (1 + days))) + ema[-1] * (1 - (smoothing / (1 + days))))\n",
    "    return ema\n",
    "\n",
    "def MACD(list_input,prices):\n",
    "    ema_short = calculate_ema(prices, 12)\n",
    "    ema_long = calculate_ema(prices, 26)\n",
    "    len(ema_short)\n",
    "    dif = []\n",
    "    for i in range(0,len(prices)-len(ema_short)):\n",
    "        tmp = ema_short[i]\n",
    "        ema_short.insert( i, tmp)\n",
    "    \n",
    "    for j in range(0,len(prices)-len(ema_long)):\n",
    "        tmp = ema_long[i]\n",
    "        ema_long.insert( i, tmp)\n",
    "\n",
    "    for k in range(0,len(prices)):\n",
    "        dif.append(ema_short[k] - ema_long[k])\n",
    "\n",
    "    MACD = calculate_ema(dif, 9)\n",
    "    for j in range(0,len(prices)-len(MACD)):\n",
    "        tmp = MACD[i]\n",
    "        MACD.insert( i, tmp)\n",
    "\n",
    "    MACD_arr = np.array(MACD).reshape(len(MACD),1)\n",
    "    list_input = np.hstack((list_input,MACD_arr))\n",
    "    return list_input"
   ]
  },
  {
   "cell_type": "code",
   "execution_count": 26,
   "id": "e2367ea3",
   "metadata": {
    "scrolled": false
   },
   "outputs": [
    {
     "name": "stderr",
     "output_type": "stream",
     "text": [
      "/Users/oreo/opt/anaconda3/envs/RL_env/lib/python3.7/site-packages/ipykernel_launcher.py:17: SettingWithCopyWarning: \n",
      "A value is trying to be set on a copy of a slice from a DataFrame\n",
      "\n",
      "See the caveats in the documentation: https://pandas.pydata.org/pandas-docs/stable/user_guide/indexing.html#returning-a-view-versus-a-copy\n",
      "  app.launch_new_instance()\n"
     ]
    }
   ],
   "source": [
    "if(info['AVG_fill'][0] == 1):\n",
    "    data_df = avg_fill(data_df,list(result.keys()))\n",
    "else:\n",
    "    data_df.fillna(info['Custom_fill'][0], inplace = True)"
   ]
  },
  {
   "cell_type": "code",
   "execution_count": 27,
   "id": "094d9757",
   "metadata": {},
   "outputs": [],
   "source": [
    "data = data_df.to_numpy()\n",
    "price = data_df['收盤價(元)'].values\n",
    "data = MACD(data,price)\n",
    "\n",
    "if(info[\"Standardise\"][0] == 1):\n",
    "    from sklearn.preprocessing import StandardScaler\n",
    "    scaler = StandardScaler()\n",
    "    scaler.fit(data)\n",
    "    data = scaler.transform(data)\n",
    "\n",
    "if(info[\"Normalize\"][0] == 1):\n",
    "    from sklearn.preprocessing import Normalizer\n",
    "    transformer = Normalizer().fit(data)\n",
    "    data = transformer.transform(data)\n",
    "\n",
    "if(info[\"Scaleing\"][0] == 1):\n",
    "    from sklearn.preprocessing import MinMaxScaler\n",
    "    scaler = MinMaxScaler()\n",
    "    scaler.fit(data)\n",
    "    data = scaler.transform(data)\n",
    "    \n",
    "data[data == 0] = 1e-100"
   ]
  },
  {
   "cell_type": "code",
   "execution_count": 89,
   "id": "78f9dd26",
   "metadata": {
    "scrolled": true
   },
   "outputs": [],
   "source": [
    "class ETFenv(Env):\n",
    "    \n",
    "    def __init__(self, data,space_dict,price_key,reward_driver=1, punish_driver = 3, length = 100, stock_num = 1000, interest_rate = 0.05):\n",
    "\n",
    "        X = data\n",
    "        self.X = data\n",
    "        \n",
    "        price_index = 0\n",
    "        for key in space_dict:\n",
    "            if(price_key == key):break\n",
    "            price_index+=1\n",
    "        \n",
    "        global rd\n",
    "        rd = random.randint(0,len(X)-(length+3))\n",
    "\n",
    "        self._max_episode_steps = length\n",
    "        self.state = X[rd]\n",
    "        self.price = self.X[rd+1][price_index]\n",
    "        self.next_price = self.X[rd+2][price_index]\n",
    "        self.interest_rate = interest_rate\n",
    "        #set length\n",
    "        self.length = self._max_episode_steps\n",
    "        #set holding\n",
    "        self.reward_driver = reward_driver\n",
    "        self.punish_driver = punish_driver\n",
    "        self.stock = stock_num\n",
    "        self.hold_times=0\n",
    "        self.reward = 0\n",
    "        self.asset = []\n",
    "        self.lastday = 0\n",
    "        self.hold = False\n",
    "        self.buy = False\n",
    "        self.sell = False\n",
    "        \n",
    "        #Action Buy(0),Sell(1),Hold(2)\n",
    "        self.action_space = Box(low = -1, high= 1, shape=(1,), dtype=np.float)\n",
    "        #Price array\n",
    "        self.observation_space = spaces.Dict(space_dict)\n",
    "        \n",
    "    def step(self, action):\n",
    "        global rd\n",
    "        self.length -=1\n",
    "        \n",
    "\n",
    "        amount = abs(math.floor(self.stock  * action))\n",
    "\n",
    "        if action > 0:\n",
    "            \n",
    "            try:\n",
    "                reward_do = math.log10(float(self.next_price/self.price)) * amount\n",
    "            except:\n",
    "                print(self.next_price)\n",
    "                print(self.price)\n",
    "            reward_leave = math.log10(1+float(self.interest_rate*30/365)) * (self.stock - amount) * self.price\n",
    "            reward_function_sum = reward_do + reward_leave\n",
    "            self.reward  = reward_function_sum * self.reward_driver if reward_function_sum >0  else reward_function_sum * self.punish_driver\n",
    "            \n",
    "        \n",
    "        elif action < 0:\n",
    "            reward_do = math.log10(float(self.price/self.next_price)) * amount\n",
    "            reward_leave = math.log10(1+float(self.interest_rate*30/365)) * (self.stock - amount) * self.price # 可能要改成沒賣的那些股票他們的價值變化\n",
    "            reward_function_sum = reward_do + reward_leave\n",
    "            self.reward  = reward_function_sum * self.reward_driver if reward_function_sum >0  else reward_function_sum * self.punish_driver\n",
    "            #self.reward  = reward_do * self.reward_driver if reward_do >0  else reward_do * self.punish_driver\n",
    "\n",
    "            #leave_value = (self.stock - amount) * self.next_price\n",
    "            #next_value = amount * self.price + leave_value\n",
    "            #this_value = self.price * self.stock\n",
    "            #reward_function = math.log10(float(this_value/next_value)) \n",
    "            #self.reward  = reward_function * self.reward_driver if reward_function >0  else reward_function * self.punish_driver\n",
    "        \n",
    "            \n",
    "        else:\n",
    "            self.hold = True\n",
    "        \n",
    "        if self.length <=0:\n",
    "            done = True\n",
    "            info={}\n",
    "            return self.state, self.reward, done, info\n",
    "        else:\n",
    "            done = False\n",
    "            \n",
    "        rd +=1\n",
    "        self.state = self.X[rd]\n",
    "        self.price = self.X[rd+1][0]\n",
    "        self.next_price = self.X[rd+2][0]\n",
    "        info={}\n",
    "        return self.state, self.reward, done, info\n",
    "        \n",
    "    def render(self):\n",
    "        #Visualization is not work for this project~\n",
    "        pass\n",
    "    \n",
    "    def reset(self): \n",
    "        global rd\n",
    "        self.sell = False\n",
    "        self.buy = False\n",
    "        self.hold = False\n",
    "        self.lastday = 0\n",
    "        self.asset = []\n",
    "        self.hold_times= 0\n",
    "        rd = random.randint(0,len(self.X)-(self._max_episode_steps+3))\n",
    "        self.state = self.X [rd]\n",
    "        self.price = self.X[rd+1][price_index]\n",
    "        self.next_price = self.X[rd+2][price_index]\n",
    "        self.length = self._max_episode_steps\n",
    "        return self.state"
   ]
  },
  {
   "cell_type": "code",
   "execution_count": 90,
   "id": "8f8b84e1",
   "metadata": {
    "scrolled": false
   },
   "outputs": [
    {
     "name": "stderr",
     "output_type": "stream",
     "text": [
      "/Users/oreo/opt/anaconda3/envs/RL_env/lib/python3.7/site-packages/gym/logger.py:34: UserWarning: \u001b[33mWARN: Box bound precision lowered by casting to float32\u001b[0m\n",
      "  warnings.warn(colorize(\"%s: %s\" % (\"WARN\", msg % args), \"yellow\"))\n",
      "/Users/oreo/opt/anaconda3/envs/RL_env/lib/python3.7/site-packages/ipykernel_launcher.py:36: DeprecationWarning: `np.float` is a deprecated alias for the builtin `float`. To silence this warning, use `float` by itself. Doing this will not modify any behavior and is safe. If you specifically wanted the numpy scalar type, use `np.float64` here.\n",
      "Deprecated in NumPy 1.20; for more details and guidance: https://numpy.org/devdocs/release/1.20.0-notes.html#deprecations\n"
     ]
    }
   ],
   "source": [
    "space_dict = {}\n",
    "for col in list(result.keys()):\n",
    "    space_dict[col] = spaces.Box(low=np.array([data_df[col].min()]), high=np.array([data_df[col].max()])) \n",
    "    \n",
    "env = ETFenv(data = data,space_dict=space_dict,price_key = '收盤價(元)',reward_driver= 0.05, punish_driver = 0.05, length = 100, stock_num = 1000, interest_rate = 0.05)"
   ]
  },
  {
   "cell_type": "code",
   "execution_count": 98,
   "id": "b01bd778",
   "metadata": {},
   "outputs": [
    {
     "name": "stdout",
     "output_type": "stream",
     "text": [
      "Episode:1 Score:6.606008356321982\n",
      "Episode:2 Score:-0.7923398784765248\n",
      "Episode:3 Score:0.7503970977258511\n",
      "Episode:4 Score:0.9781629544689064\n",
      "Episode:5 Score:4.602701079725094\n",
      "Episode:6 Score:1.3420580106281241\n",
      "Episode:7 Score:2.2322072801897326\n",
      "Episode:8 Score:1.5937957010757942\n",
      "Episode:9 Score:-2.2045584192410916\n",
      "Episode:10 Score:-0.9390494875121607\n"
     ]
    }
   ],
   "source": [
    "episodes = 10\n",
    "\n",
    "for episodes in range(1, episodes+1):\n",
    "    state = env.reset()\n",
    "    done = False\n",
    "    score = 0\n",
    "    \n",
    "    while not done:\n",
    "        env.render()\n",
    "        action =env.action_space.sample()\n",
    "        n_state, reward, done, info = env.step(action)\n",
    "        score += reward\n",
    "    print('Episode:{} Score:{}'.format(episodes, score))"
   ]
  },
  {
   "cell_type": "markdown",
   "id": "3aade6b0",
   "metadata": {},
   "source": [
    "# TEST AREA"
   ]
  },
  {
   "cell_type": "markdown",
   "id": "b14a7bc4",
   "metadata": {},
   "source": [
    "### avg_fill testing"
   ]
  },
  {
   "cell_type": "code",
   "execution_count": 62,
   "id": "8687bf3c",
   "metadata": {},
   "outputs": [
    {
     "name": "stderr",
     "output_type": "stream",
     "text": [
      "/Users/oreo/opt/anaconda3/envs/RL_env/lib/python3.7/site-packages/ipykernel_launcher.py:15: SettingWithCopyWarning: \n",
      "A value is trying to be set on a copy of a slice from a DataFrame\n",
      "\n",
      "See the caveats in the documentation: https://pandas.pydata.org/pandas-docs/stable/user_guide/indexing.html#returning-a-view-versus-a-copy\n",
      "  from ipykernel import kernelapp as app\n"
     ]
    }
   ],
   "source": [
    "na_array = data['開盤價(元)'][data['開盤價(元)'].isna()].index\n",
    "for na in na_array:\n",
    "    forward = data['開盤價(元)'][na-1:na-4].mean()\n",
    "    backward = data['開盤價(元)'][na+1:na+4].mean()\n",
    "    if(math.isnan(forward) and math.isnan(backward)):\n",
    "        fill = 0\n",
    "    elif(math.isnan(forward) or math.isnan(backward)):\n",
    "        if(math.isnan(forward)):\n",
    "            fill = backward\n",
    "        else:\n",
    "            fill = forward\n",
    "    else:\n",
    "        fill = (forward + backward)/2 \n",
    "    \n",
    "    data['開盤價(元)'][na] = fill"
   ]
  },
  {
   "cell_type": "code",
   "execution_count": 99,
   "id": "d67c6bf1",
   "metadata": {
    "scrolled": true
   },
   "outputs": [
    {
     "data": {
      "text/plain": [
       "{'開盤價(元)': Box([1.e-100], [1.], (1,), float64),\n",
       " '最高價(元)': Box([1.e-100], [1.], (1,), float64),\n",
       " '最低價(元)': Box([1.e-100], [1.], (1,), float64),\n",
       " '收盤價(元)': Box([1.e-100], [1.], (1,), float64),\n",
       " '成交量(千股)': Box([1.e-100], [1.], (1,), float64),\n",
       " '成交值(千元)': Box([1.e-100], [1.], (1,), float64),\n",
       " '報酬率％': Box([1.e-100], [1.], (1,), float64),\n",
       " '週轉率％': Box([1.e-100], [1.], (1,), float64),\n",
       " '成交筆數(筆)': Box([1.e-100], [1.], (1,), float64),\n",
       " '合計買賣超(千股)': Box([1.e-100], [1.], (1,), float64),\n",
       " '融資餘額(張)': Box([1.e-100], [1.], (1,), float64),\n",
       " '融券餘額(張)': Box([1.e-100], [1.], (1,), float64),\n",
       " 'MACD': Box([1.e-100], [1.], (1,), float64)}"
      ]
     },
     "execution_count": 99,
     "metadata": {},
     "output_type": "execute_result"
    }
   ],
   "source": [
    "space_dict = {}\n",
    "i = 0\n",
    "for col in list(result.keys()):\n",
    "    space_dict[col] = spaces.Box(low=np.array([data[:,i].min()]), high=np.array([data[:,i].max()]),dtype=np.float64)\n",
    "    i+=1\n",
    "    \n",
    "space_dict['MACD'] = spaces.Box(low=np.array([data[:,i].min()]), high=np.array([data[:,i].max()]),dtype=np.float64)\n",
    "    \n",
    "space_dict"
   ]
  },
  {
   "cell_type": "code",
   "execution_count": 101,
   "id": "7a7ad470",
   "metadata": {},
   "outputs": [
    {
     "data": {
      "text/plain": [
       "['開盤價(元)',\n",
       " '最高價(元)',\n",
       " '最低價(元)',\n",
       " '收盤價(元)',\n",
       " '成交量(千股)',\n",
       " '成交值(千元)',\n",
       " '報酬率％',\n",
       " '週轉率％',\n",
       " '成交筆數(筆)',\n",
       " '合計買賣超(千股)',\n",
       " '融資餘額(張)',\n",
       " '融券餘額(張)']"
      ]
     },
     "execution_count": 101,
     "metadata": {},
     "output_type": "execute_result"
    }
   ],
   "source": [
    "list(result.keys())"
   ]
  }
 ],
 "metadata": {
  "kernelspec": {
   "display_name": "Python 3 (ipykernel)",
   "language": "python",
   "name": "python3"
  },
  "language_info": {
   "codemirror_mode": {
    "name": "ipython",
    "version": 3
   },
   "file_extension": ".py",
   "mimetype": "text/x-python",
   "name": "python",
   "nbconvert_exporter": "python",
   "pygments_lexer": "ipython3",
   "version": "3.7.12"
  }
 },
 "nbformat": 4,
 "nbformat_minor": 5
}
